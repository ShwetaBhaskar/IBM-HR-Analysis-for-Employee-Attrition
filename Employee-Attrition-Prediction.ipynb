{
 "cells": [
  {
   "cell_type": "code",
   "execution_count": 1,
   "metadata": {},
   "outputs": [],
   "source": [
    "import pandas as pd\n",
    "import numpy as np\n",
    "import matplotlib.pyplot as plt\n",
    "%matplotlib inline\n",
    "import seaborn as sns\n",
    "from IPython import get_ipython\n",
    "import warnings\n",
    "warnings.filterwarnings(\"ignore\")"
   ]
  },
  {
   "cell_type": "code",
   "execution_count": 2,
   "metadata": {},
   "outputs": [],
   "source": [
    "data = pd.read_csv('employee_attire.csv')"
   ]
  },
  {
   "cell_type": "code",
   "execution_count": 3,
   "metadata": {},
   "outputs": [
    {
     "data": {
      "text/html": [
       "<div>\n",
       "<style scoped>\n",
       "    .dataframe tbody tr th:only-of-type {\n",
       "        vertical-align: middle;\n",
       "    }\n",
       "\n",
       "    .dataframe tbody tr th {\n",
       "        vertical-align: top;\n",
       "    }\n",
       "\n",
       "    .dataframe thead th {\n",
       "        text-align: right;\n",
       "    }\n",
       "</style>\n",
       "<table border=\"1\" class=\"dataframe\">\n",
       "  <thead>\n",
       "    <tr style=\"text-align: right;\">\n",
       "      <th></th>\n",
       "      <th>table id</th>\n",
       "      <th>name</th>\n",
       "      <th>phone number</th>\n",
       "      <th>Location</th>\n",
       "      <th>Emp. Group</th>\n",
       "      <th>Function</th>\n",
       "      <th>Gender</th>\n",
       "      <th>Tenure</th>\n",
       "      <th>Tenure Grp.</th>\n",
       "      <th>Experience (YY.MM)</th>\n",
       "      <th>Marital Status</th>\n",
       "      <th>Age in YY.</th>\n",
       "      <th>Hiring Source</th>\n",
       "      <th>Promoted/Non Promoted</th>\n",
       "      <th>Job Role Match</th>\n",
       "      <th>Stay/Left</th>\n",
       "    </tr>\n",
       "  </thead>\n",
       "  <tbody>\n",
       "    <tr>\n",
       "      <th>0</th>\n",
       "      <td>1</td>\n",
       "      <td>sid</td>\n",
       "      <td>9876544345</td>\n",
       "      <td>Pune</td>\n",
       "      <td>B2</td>\n",
       "      <td>Operation</td>\n",
       "      <td>Male</td>\n",
       "      <td>0.00</td>\n",
       "      <td>&lt; =1</td>\n",
       "      <td>6.08</td>\n",
       "      <td>Single</td>\n",
       "      <td>27.12</td>\n",
       "      <td>Direct</td>\n",
       "      <td>Non Promoted</td>\n",
       "      <td>Yes</td>\n",
       "      <td>Left</td>\n",
       "    </tr>\n",
       "    <tr>\n",
       "      <th>1</th>\n",
       "      <td>2</td>\n",
       "      <td>sid</td>\n",
       "      <td>9876544345</td>\n",
       "      <td>Noida</td>\n",
       "      <td>B7</td>\n",
       "      <td>Support</td>\n",
       "      <td>Male</td>\n",
       "      <td>0.00</td>\n",
       "      <td>&lt; =1</td>\n",
       "      <td>13.00</td>\n",
       "      <td>Marr.</td>\n",
       "      <td>38.08</td>\n",
       "      <td>Direct</td>\n",
       "      <td>Promoted</td>\n",
       "      <td>No</td>\n",
       "      <td>Stay</td>\n",
       "    </tr>\n",
       "    <tr>\n",
       "      <th>2</th>\n",
       "      <td>3</td>\n",
       "      <td>sid</td>\n",
       "      <td>9876544345</td>\n",
       "      <td>Bangalore</td>\n",
       "      <td>B3</td>\n",
       "      <td>Operation</td>\n",
       "      <td>Male</td>\n",
       "      <td>0.01</td>\n",
       "      <td>&lt; =1</td>\n",
       "      <td>16.05</td>\n",
       "      <td>Marr.</td>\n",
       "      <td>36.04</td>\n",
       "      <td>Direct</td>\n",
       "      <td>Promoted</td>\n",
       "      <td>Yes</td>\n",
       "      <td>Stay</td>\n",
       "    </tr>\n",
       "    <tr>\n",
       "      <th>3</th>\n",
       "      <td>4</td>\n",
       "      <td>sid</td>\n",
       "      <td>9876544345</td>\n",
       "      <td>Noida</td>\n",
       "      <td>B2</td>\n",
       "      <td>Operation</td>\n",
       "      <td>Male</td>\n",
       "      <td>0.01</td>\n",
       "      <td>&lt; =1</td>\n",
       "      <td>6.06</td>\n",
       "      <td>Marr.</td>\n",
       "      <td>32.07</td>\n",
       "      <td>Direct</td>\n",
       "      <td>Promoted</td>\n",
       "      <td>Yes</td>\n",
       "      <td>Stay</td>\n",
       "    </tr>\n",
       "    <tr>\n",
       "      <th>4</th>\n",
       "      <td>5</td>\n",
       "      <td>sid</td>\n",
       "      <td>9876544345</td>\n",
       "      <td>Lucknow</td>\n",
       "      <td>B2</td>\n",
       "      <td>Operation</td>\n",
       "      <td>Male</td>\n",
       "      <td>0.00</td>\n",
       "      <td>&lt; =1</td>\n",
       "      <td>7.00</td>\n",
       "      <td>Marr.</td>\n",
       "      <td>32.05</td>\n",
       "      <td>Direct</td>\n",
       "      <td>Non Promoted</td>\n",
       "      <td>Yes</td>\n",
       "      <td>Stay</td>\n",
       "    </tr>\n",
       "  </tbody>\n",
       "</table>\n",
       "</div>"
      ],
      "text/plain": [
       "   table id name  phone number   Location Emp. Group   Function Gender   \\\n",
       "0         1  sid    9876544345       Pune         B2  Operation    Male   \n",
       "1         2  sid    9876544345      Noida         B7    Support    Male   \n",
       "2         3  sid    9876544345  Bangalore         B3  Operation    Male   \n",
       "3         4  sid    9876544345      Noida         B2  Operation    Male   \n",
       "4         5  sid    9876544345    Lucknow         B2  Operation    Male   \n",
       "\n",
       "   Tenure Tenure Grp.  Experience (YY.MM) Marital Status  Age in YY.  \\\n",
       "0    0.00        < =1                6.08         Single       27.12   \n",
       "1    0.00        < =1               13.00          Marr.       38.08   \n",
       "2    0.01        < =1               16.05          Marr.       36.04   \n",
       "3    0.01        < =1                6.06          Marr.       32.07   \n",
       "4    0.00        < =1                7.00          Marr.       32.05   \n",
       "\n",
       "  Hiring Source Promoted/Non Promoted Job Role Match Stay/Left  \n",
       "0        Direct          Non Promoted            Yes      Left  \n",
       "1        Direct              Promoted             No      Stay  \n",
       "2        Direct              Promoted            Yes      Stay  \n",
       "3        Direct              Promoted            Yes      Stay  \n",
       "4        Direct          Non Promoted            Yes      Stay  "
      ]
     },
     "execution_count": 3,
     "metadata": {},
     "output_type": "execute_result"
    }
   ],
   "source": [
    "data.head()"
   ]
  },
  {
   "cell_type": "code",
   "execution_count": 4,
   "metadata": {},
   "outputs": [
    {
     "data": {
      "text/html": [
       "<div>\n",
       "<style scoped>\n",
       "    .dataframe tbody tr th:only-of-type {\n",
       "        vertical-align: middle;\n",
       "    }\n",
       "\n",
       "    .dataframe tbody tr th {\n",
       "        vertical-align: top;\n",
       "    }\n",
       "\n",
       "    .dataframe thead th {\n",
       "        text-align: right;\n",
       "    }\n",
       "</style>\n",
       "<table border=\"1\" class=\"dataframe\">\n",
       "  <thead>\n",
       "    <tr style=\"text-align: right;\">\n",
       "      <th></th>\n",
       "      <th>table id</th>\n",
       "      <th>name</th>\n",
       "      <th>phone number</th>\n",
       "      <th>Location</th>\n",
       "      <th>Emp. Group</th>\n",
       "      <th>Function</th>\n",
       "      <th>Gender</th>\n",
       "      <th>Tenure</th>\n",
       "      <th>Tenure Grp.</th>\n",
       "      <th>Experience (YY.MM)</th>\n",
       "      <th>Marital Status</th>\n",
       "      <th>Age in YY.</th>\n",
       "      <th>Hiring Source</th>\n",
       "      <th>Promoted/Non Promoted</th>\n",
       "      <th>Job Role Match</th>\n",
       "      <th>Stay/Left</th>\n",
       "    </tr>\n",
       "  </thead>\n",
       "  <tbody>\n",
       "    <tr>\n",
       "      <th>897</th>\n",
       "      <td>898</td>\n",
       "      <td>Rahul</td>\n",
       "      <td>9876544345</td>\n",
       "      <td>Vijayawada</td>\n",
       "      <td>B1</td>\n",
       "      <td>Operation</td>\n",
       "      <td>Female</td>\n",
       "      <td>0.03</td>\n",
       "      <td>&lt; =1</td>\n",
       "      <td>0.03</td>\n",
       "      <td>Single</td>\n",
       "      <td>21.09</td>\n",
       "      <td>Direct</td>\n",
       "      <td>Non Promoted</td>\n",
       "      <td>Yes</td>\n",
       "      <td>Stay</td>\n",
       "    </tr>\n",
       "    <tr>\n",
       "      <th>898</th>\n",
       "      <td>899</td>\n",
       "      <td>Rahul</td>\n",
       "      <td>9876544345</td>\n",
       "      <td>Vijayawada</td>\n",
       "      <td>B1</td>\n",
       "      <td>Operation</td>\n",
       "      <td>Female</td>\n",
       "      <td>0.03</td>\n",
       "      <td>&lt; =1</td>\n",
       "      <td>0.03</td>\n",
       "      <td>Single</td>\n",
       "      <td>22.02</td>\n",
       "      <td>Direct</td>\n",
       "      <td>Non Promoted</td>\n",
       "      <td>Yes</td>\n",
       "      <td>Left</td>\n",
       "    </tr>\n",
       "    <tr>\n",
       "      <th>899</th>\n",
       "      <td>900</td>\n",
       "      <td>Rahul</td>\n",
       "      <td>9876544345</td>\n",
       "      <td>Vijayawada</td>\n",
       "      <td>B1</td>\n",
       "      <td>Operation</td>\n",
       "      <td>Female</td>\n",
       "      <td>0.03</td>\n",
       "      <td>&lt; =1</td>\n",
       "      <td>0.03</td>\n",
       "      <td>Single</td>\n",
       "      <td>22.01</td>\n",
       "      <td>Direct</td>\n",
       "      <td>Non Promoted</td>\n",
       "      <td>NaN</td>\n",
       "      <td>Left</td>\n",
       "    </tr>\n",
       "    <tr>\n",
       "      <th>900</th>\n",
       "      <td>901</td>\n",
       "      <td>Rahul</td>\n",
       "      <td>9876544345</td>\n",
       "      <td>Vijayawada</td>\n",
       "      <td>B1</td>\n",
       "      <td>Operation</td>\n",
       "      <td>Female</td>\n",
       "      <td>0.03</td>\n",
       "      <td>&lt; =1</td>\n",
       "      <td>0.03</td>\n",
       "      <td>Single</td>\n",
       "      <td>22.02</td>\n",
       "      <td>Direct</td>\n",
       "      <td>Non Promoted</td>\n",
       "      <td>Yes</td>\n",
       "      <td>Stay</td>\n",
       "    </tr>\n",
       "    <tr>\n",
       "      <th>901</th>\n",
       "      <td>902</td>\n",
       "      <td>Rahul</td>\n",
       "      <td>9876544345</td>\n",
       "      <td>Madurai</td>\n",
       "      <td>B2</td>\n",
       "      <td>Operation</td>\n",
       "      <td>Male</td>\n",
       "      <td>0.02</td>\n",
       "      <td>&lt; =1</td>\n",
       "      <td>10.02</td>\n",
       "      <td>Marr.</td>\n",
       "      <td>32.08</td>\n",
       "      <td>Direct</td>\n",
       "      <td>Non Promoted</td>\n",
       "      <td>No</td>\n",
       "      <td>Stay</td>\n",
       "    </tr>\n",
       "  </tbody>\n",
       "</table>\n",
       "</div>"
      ],
      "text/plain": [
       "     table id   name  phone number    Location Emp. Group   Function Gender   \\\n",
       "897       898  Rahul    9876544345  Vijayawada         B1  Operation  Female   \n",
       "898       899  Rahul    9876544345  Vijayawada         B1  Operation  Female   \n",
       "899       900  Rahul    9876544345  Vijayawada         B1  Operation  Female   \n",
       "900       901  Rahul    9876544345  Vijayawada         B1  Operation  Female   \n",
       "901       902  Rahul    9876544345     Madurai         B2  Operation    Male   \n",
       "\n",
       "     Tenure Tenure Grp.  Experience (YY.MM) Marital Status  Age in YY.  \\\n",
       "897    0.03        < =1                0.03         Single       21.09   \n",
       "898    0.03        < =1                0.03         Single       22.02   \n",
       "899    0.03        < =1                0.03         Single       22.01   \n",
       "900    0.03        < =1                0.03         Single       22.02   \n",
       "901    0.02        < =1               10.02          Marr.       32.08   \n",
       "\n",
       "    Hiring Source Promoted/Non Promoted Job Role Match Stay/Left  \n",
       "897        Direct          Non Promoted            Yes      Stay  \n",
       "898        Direct          Non Promoted            Yes      Left  \n",
       "899        Direct          Non Promoted            NaN      Left  \n",
       "900        Direct          Non Promoted            Yes      Stay  \n",
       "901        Direct          Non Promoted             No      Stay  "
      ]
     },
     "execution_count": 4,
     "metadata": {},
     "output_type": "execute_result"
    }
   ],
   "source": [
    "data.tail()"
   ]
  },
  {
   "cell_type": "code",
   "execution_count": 5,
   "metadata": {},
   "outputs": [
    {
     "data": {
      "text/plain": [
       "(902, 16)"
      ]
     },
     "execution_count": 5,
     "metadata": {},
     "output_type": "execute_result"
    }
   ],
   "source": [
    "data.shape"
   ]
  },
  {
   "cell_type": "code",
   "execution_count": 6,
   "metadata": {},
   "outputs": [
    {
     "data": {
      "text/plain": [
       "Index(['table id', 'name', 'phone number', 'Location', 'Emp. Group',\n",
       "       'Function', 'Gender ', 'Tenure', 'Tenure Grp.', 'Experience (YY.MM)',\n",
       "       'Marital Status', 'Age in YY.', 'Hiring Source',\n",
       "       'Promoted/Non Promoted', 'Job Role Match', 'Stay/Left'],\n",
       "      dtype='object')"
      ]
     },
     "execution_count": 6,
     "metadata": {},
     "output_type": "execute_result"
    }
   ],
   "source": [
    "data.columns"
   ]
  },
  {
   "cell_type": "code",
   "execution_count": 7,
   "metadata": {},
   "outputs": [
    {
     "data": {
      "text/plain": [
       "0"
      ]
     },
     "execution_count": 7,
     "metadata": {},
     "output_type": "execute_result"
    }
   ],
   "source": [
    "data.duplicated().sum()"
   ]
  },
  {
   "cell_type": "code",
   "execution_count": 8,
   "metadata": {},
   "outputs": [
    {
     "data": {
      "text/plain": [
       "table id                 0\n",
       "name                     0\n",
       "phone number             0\n",
       "Location                 0\n",
       "Emp. Group               0\n",
       "Function                 0\n",
       "Gender                   0\n",
       "Tenure                   0\n",
       "Tenure Grp.              0\n",
       "Experience (YY.MM)       4\n",
       "Marital Status           0\n",
       "Age in YY.               0\n",
       "Hiring Source            0\n",
       "Promoted/Non Promoted    0\n",
       "Job Role Match           2\n",
       "Stay/Left                0\n",
       "dtype: int64"
      ]
     },
     "execution_count": 8,
     "metadata": {},
     "output_type": "execute_result"
    }
   ],
   "source": [
    "data.isnull().sum()"
   ]
  },
  {
   "cell_type": "code",
   "execution_count": 9,
   "metadata": {},
   "outputs": [],
   "source": [
    "data.dropna(axis=0,inplace=True)"
   ]
  },
  {
   "cell_type": "code",
   "execution_count": 10,
   "metadata": {},
   "outputs": [
    {
     "data": {
      "text/plain": [
       "(896, 16)"
      ]
     },
     "execution_count": 10,
     "metadata": {},
     "output_type": "execute_result"
    }
   ],
   "source": [
    "data.shape"
   ]
  },
  {
   "cell_type": "code",
   "execution_count": 11,
   "metadata": {},
   "outputs": [
    {
     "name": "stdout",
     "output_type": "stream",
     "text": [
      "<class 'pandas.core.frame.DataFrame'>\n",
      "Int64Index: 896 entries, 0 to 901\n",
      "Data columns (total 16 columns):\n",
      " #   Column                 Non-Null Count  Dtype  \n",
      "---  ------                 --------------  -----  \n",
      " 0   table id               896 non-null    int64  \n",
      " 1   name                   896 non-null    object \n",
      " 2   phone number           896 non-null    int64  \n",
      " 3   Location               896 non-null    object \n",
      " 4   Emp. Group             896 non-null    object \n",
      " 5   Function               896 non-null    object \n",
      " 6   Gender                 896 non-null    object \n",
      " 7   Tenure                 896 non-null    float64\n",
      " 8   Tenure Grp.            896 non-null    object \n",
      " 9   Experience (YY.MM)     896 non-null    float64\n",
      " 10  Marital Status         896 non-null    object \n",
      " 11  Age in YY.             896 non-null    float64\n",
      " 12  Hiring Source          896 non-null    object \n",
      " 13  Promoted/Non Promoted  896 non-null    object \n",
      " 14  Job Role Match         896 non-null    object \n",
      " 15  Stay/Left              896 non-null    object \n",
      "dtypes: float64(3), int64(2), object(11)\n",
      "memory usage: 119.0+ KB\n"
     ]
    }
   ],
   "source": [
    "data.info()"
   ]
  },
  {
   "cell_type": "code",
   "execution_count": 12,
   "metadata": {},
   "outputs": [
    {
     "data": {
      "text/html": [
       "<div>\n",
       "<style scoped>\n",
       "    .dataframe tbody tr th:only-of-type {\n",
       "        vertical-align: middle;\n",
       "    }\n",
       "\n",
       "    .dataframe tbody tr th {\n",
       "        vertical-align: top;\n",
       "    }\n",
       "\n",
       "    .dataframe thead th {\n",
       "        text-align: right;\n",
       "    }\n",
       "</style>\n",
       "<table border=\"1\" class=\"dataframe\">\n",
       "  <thead>\n",
       "    <tr style=\"text-align: right;\">\n",
       "      <th></th>\n",
       "      <th>table id</th>\n",
       "      <th>phone number</th>\n",
       "      <th>Tenure</th>\n",
       "      <th>Experience (YY.MM)</th>\n",
       "      <th>Age in YY.</th>\n",
       "    </tr>\n",
       "  </thead>\n",
       "  <tbody>\n",
       "    <tr>\n",
       "      <th>count</th>\n",
       "      <td>896.000000</td>\n",
       "      <td>8.960000e+02</td>\n",
       "      <td>896.000000</td>\n",
       "      <td>896.000000</td>\n",
       "      <td>896.000000</td>\n",
       "    </tr>\n",
       "    <tr>\n",
       "      <th>mean</th>\n",
       "      <td>451.245536</td>\n",
       "      <td>9.876544e+09</td>\n",
       "      <td>1.205982</td>\n",
       "      <td>5.161886</td>\n",
       "      <td>29.078795</td>\n",
       "    </tr>\n",
       "    <tr>\n",
       "      <th>std</th>\n",
       "      <td>259.236205</td>\n",
       "      <td>0.000000e+00</td>\n",
       "      <td>0.820552</td>\n",
       "      <td>3.478917</td>\n",
       "      <td>4.493532</td>\n",
       "    </tr>\n",
       "    <tr>\n",
       "      <th>min</th>\n",
       "      <td>1.000000</td>\n",
       "      <td>9.876544e+09</td>\n",
       "      <td>0.000000</td>\n",
       "      <td>0.030000</td>\n",
       "      <td>21.050000</td>\n",
       "    </tr>\n",
       "    <tr>\n",
       "      <th>25%</th>\n",
       "      <td>227.750000</td>\n",
       "      <td>9.876544e+09</td>\n",
       "      <td>0.110000</td>\n",
       "      <td>2.100000</td>\n",
       "      <td>26.050000</td>\n",
       "    </tr>\n",
       "    <tr>\n",
       "      <th>50%</th>\n",
       "      <td>451.500000</td>\n",
       "      <td>9.876544e+09</td>\n",
       "      <td>1.060000</td>\n",
       "      <td>4.110000</td>\n",
       "      <td>28.060000</td>\n",
       "    </tr>\n",
       "    <tr>\n",
       "      <th>75%</th>\n",
       "      <td>675.250000</td>\n",
       "      <td>9.876544e+09</td>\n",
       "      <td>2.040000</td>\n",
       "      <td>7.030000</td>\n",
       "      <td>31.070000</td>\n",
       "    </tr>\n",
       "    <tr>\n",
       "      <th>max</th>\n",
       "      <td>902.000000</td>\n",
       "      <td>9.876544e+09</td>\n",
       "      <td>3.000000</td>\n",
       "      <td>25.080000</td>\n",
       "      <td>52.060000</td>\n",
       "    </tr>\n",
       "  </tbody>\n",
       "</table>\n",
       "</div>"
      ],
      "text/plain": [
       "         table id  phone number      Tenure  Experience (YY.MM)  Age in YY.\n",
       "count  896.000000  8.960000e+02  896.000000          896.000000  896.000000\n",
       "mean   451.245536  9.876544e+09    1.205982            5.161886   29.078795\n",
       "std    259.236205  0.000000e+00    0.820552            3.478917    4.493532\n",
       "min      1.000000  9.876544e+09    0.000000            0.030000   21.050000\n",
       "25%    227.750000  9.876544e+09    0.110000            2.100000   26.050000\n",
       "50%    451.500000  9.876544e+09    1.060000            4.110000   28.060000\n",
       "75%    675.250000  9.876544e+09    2.040000            7.030000   31.070000\n",
       "max    902.000000  9.876544e+09    3.000000           25.080000   52.060000"
      ]
     },
     "execution_count": 12,
     "metadata": {},
     "output_type": "execute_result"
    }
   ],
   "source": [
    "data.describe()"
   ]
  },
  {
   "cell_type": "code",
   "execution_count": 15,
   "metadata": {},
   "outputs": [
    {
     "data": {
      "text/plain": [
       "array(['Male', 'Female', 'other'], dtype=object)"
      ]
     },
     "execution_count": 15,
     "metadata": {},
     "output_type": "execute_result"
    }
   ],
   "source": [
    "data['Gender '].unique()"
   ]
  },
  {
   "cell_type": "code",
   "execution_count": 16,
   "metadata": {},
   "outputs": [
    {
     "data": {
      "text/plain": [
       "Male      656\n",
       "Female    234\n",
       "other       6\n",
       "Name: Gender , dtype: int64"
      ]
     },
     "execution_count": 16,
     "metadata": {},
     "output_type": "execute_result"
    }
   ],
   "source": [
    "data['Gender '].value_counts()"
   ]
  },
  {
   "cell_type": "code",
   "execution_count": 18,
   "metadata": {},
   "outputs": [
    {
     "data": {
      "image/png": "[encoded data removed]",
      "text/plain": [
       "<Figure size 1080x432 with 1 Axes>"
      ]
     },
     "metadata": {
      "needs_background": "light"
     },
     "output_type": "display_data"
    }
   ],
   "source": [
    "plt.figure(figsize=(15,6))\n",
    "sns.countplot('Gender ', data = data, palette='hls')\n",
    "plt.xticks(rotation = 90)\n",
    "plt.show()"
   ]
  },
  {
   "cell_type": "code",
   "execution_count": 19,
   "metadata": {},
   "outputs": [
    {
     "data": {
      "image/png": "[encoded data removed]",
      "text/plain": [
       "<Figure size 1080x432 with 1 Axes>"
      ]
     },
     "metadata": {
      "needs_background": "light"
     },
     "output_type": "display_data"
    }
   ],
   "source": [
    "plt.figure(figsize=(15,6))\n",
    "sns.countplot('Gender ', hue = data['Stay/Left'], \n",
    "              data = data, palette='hls')\n",
    "plt.xticks(rotation = 90)\n",
    "plt.show()"
   ]
  },
  {
   "cell_type": "code",
   "execution_count": 20,
   "metadata": {},
   "outputs": [
    {
     "data": {
      "text/plain": [
       "array(['Non Promoted', 'Promoted'], dtype=object)"
      ]
     },
     "execution_count": 20,
     "metadata": {},
     "output_type": "execute_result"
    }
   ],
   "source": [
    "data[\"Promoted/Non Promoted\"].unique()"
   ]
  },
  {
   "cell_type": "code",
   "execution_count": 21,
   "metadata": {},
   "outputs": [
    {
     "data": {
      "text/plain": [
       "Promoted        457\n",
       "Non Promoted    439\n",
       "Name: Promoted/Non Promoted, dtype: int64"
      ]
     },
     "execution_count": 21,
     "metadata": {},
     "output_type": "execute_result"
    }
   ],
   "source": [
    "data[\"Promoted/Non Promoted\"].value_counts()"
   ]
  },
  {
   "cell_type": "code",
   "execution_count": 22,
   "metadata": {},
   "outputs": [
    {
     "data": {
      "image/png": "[encoded data removed]",
      "text/plain": [
       "<Figure size 1080x432 with 1 Axes>"
      ]
     },
     "metadata": {
      "needs_background": "light"
     },
     "output_type": "display_data"
    }
   ],
   "source": [
    "plt.figure(figsize=(15,6))\n",
    "sns.countplot('Promoted/Non Promoted', data = data, palette='hls')\n",
    "plt.xticks(rotation = 90)\n",
    "plt.show()"
   ]
  },
  {
   "cell_type": "code",
   "execution_count": 23,
   "metadata": {},
   "outputs": [
    {
     "data": {
      "image/png": "[encoded data removed]",
      "text/plain": [
       "<Figure size 1080x432 with 1 Axes>"
      ]
     },
     "metadata": {
      "needs_background": "light"
     },
     "output_type": "display_data"
    }
   ],
   "source": [
    "plt.figure(figsize=(15,6))\n",
    "sns.countplot('Promoted/Non Promoted', hue = data['Stay/Left'], \n",
    "              data = data, palette='hls')\n",
    "plt.xticks(rotation = 90)\n",
    "plt.show()"
   ]
  },
  {
   "cell_type": "code",
   "execution_count": 24,
   "metadata": {},
   "outputs": [
    {
     "data": {
      "text/plain": [
       "array(['Operation', 'Support', 'Sales'], dtype=object)"
      ]
     },
     "execution_count": 24,
     "metadata": {},
     "output_type": "execute_result"
    }
   ],
   "source": [
    "data[\"Function\"].unique()"
   ]
  },
  {
   "cell_type": "code",
   "execution_count": 25,
   "metadata": {},
   "outputs": [
    {
     "data": {
      "text/plain": [
       "Operation    832\n",
       "Support       52\n",
       "Sales         12\n",
       "Name: Function, dtype: int64"
      ]
     },
     "execution_count": 25,
     "metadata": {},
     "output_type": "execute_result"
    }
   ],
   "source": [
    "data[\"Function\"].value_counts()"
   ]
  },
  {
   "cell_type": "code",
   "execution_count": 26,
   "metadata": {},
   "outputs": [
    {
     "data": {
      "image/png": "[encoded data removed]",
      "text/plain": [
       "<Figure size 1080x432 with 1 Axes>"
      ]
     },
     "metadata": {
      "needs_background": "light"
     },
     "output_type": "display_data"
    }
   ],
   "source": [
    "plt.figure(figsize=(15,6))\n",
    "sns.countplot('Function', data = data, palette='hls')\n",
    "plt.xticks(rotation = 90)\n",
    "plt.show()"
   ]
  },
  {
   "cell_type": "code",
   "execution_count": 27,
   "metadata": {},
   "outputs": [
    {
     "data": {
      "image/png": "[encoded data removed]",
      "text/plain": [
       "<Figure size 1080x432 with 1 Axes>"
      ]
     },
     "metadata": {
      "needs_background": "light"
     },
     "output_type": "display_data"
    }
   ],
   "source": [
    "plt.figure(figsize=(15,6))\n",
    "sns.countplot('Function', hue = data['Stay/Left'], \n",
    "              data = data, palette='hls')\n",
    "plt.xticks(rotation = 90)\n",
    "plt.show()"
   ]
  },
  {
   "cell_type": "code",
   "execution_count": 28,
   "metadata": {},
   "outputs": [
    {
     "data": {
      "text/plain": [
       "array(['Direct', 'Agency', 'Employee Referral'], dtype=object)"
      ]
     },
     "execution_count": 28,
     "metadata": {},
     "output_type": "execute_result"
    }
   ],
   "source": [
    "data[\"Hiring Source\"].unique()"
   ]
  },
  {
   "cell_type": "code",
   "execution_count": 29,
   "metadata": {},
   "outputs": [
    {
     "data": {
      "text/plain": [
       "Direct               709\n",
       "Agency               116\n",
       "Employee Referral     71\n",
       "Name: Hiring Source, dtype: int64"
      ]
     },
     "execution_count": 29,
     "metadata": {},
     "output_type": "execute_result"
    }
   ],
   "source": [
    "data[\"Hiring Source\"].value_counts()"
   ]
  },
  {
   "cell_type": "code",
   "execution_count": 30,
   "metadata": {},
   "outputs": [
    {
     "data": {
      "image/png": "[encoded data removed]",
      "text/plain": [
       "<Figure size 1080x432 with 1 Axes>"
      ]
     },
     "metadata": {
      "needs_background": "light"
     },
     "output_type": "display_data"
    }
   ],
   "source": [
    "plt.figure(figsize=(15,6))\n",
    "sns.countplot('Hiring Source', data = data, palette='hls')\n",
    "plt.xticks(rotation = 90)\n",
    "plt.show()"
   ]
  },
  {
   "cell_type": "code",
   "execution_count": 31,
   "metadata": {},
   "outputs": [
    {
     "data": {
      "image/png": "[encoded data removed]",
      "text/plain": [
       "<Figure size 1080x432 with 1 Axes>"
      ]
     },
     "metadata": {
      "needs_background": "light"
     },
     "output_type": "display_data"
    }
   ],
   "source": [
    "plt.figure(figsize=(15,6))\n",
    "sns.countplot('Hiring Source', hue = data['Stay/Left'] ,\n",
    "              data = data, palette='hls')\n",
    "plt.xticks(rotation = 90)\n",
    "plt.show()"
   ]
  },
  {
   "cell_type": "code",
   "execution_count": 32,
   "metadata": {},
   "outputs": [
    {
     "data": {
      "text/plain": [
       "array(['Single', 'Marr.', 'Div.', 'NTBD', 'Sep.'], dtype=object)"
      ]
     },
     "execution_count": 32,
     "metadata": {},
     "output_type": "execute_result"
    }
   ],
   "source": [
    "data[\"Marital Status\"].unique()"
   ]
  },
  {
   "cell_type": "code",
   "execution_count": 33,
   "metadata": {},
   "outputs": [
    {
     "data": {
      "text/plain": [
       "Single    534\n",
       "Marr.     356\n",
       "Div.        2\n",
       "NTBD        2\n",
       "Sep.        2\n",
       "Name: Marital Status, dtype: int64"
      ]
     },
     "execution_count": 33,
     "metadata": {},
     "output_type": "execute_result"
    }
   ],
   "source": [
    "data[\"Marital Status\"].value_counts()"
   ]
  },
  {
   "cell_type": "code",
   "execution_count": 34,
   "metadata": {},
   "outputs": [
    {
     "data": {
      "image/png": "[encoded data removed]",
      "text/plain": [
       "<Figure size 1080x432 with 1 Axes>"
      ]
     },
     "metadata": {
      "needs_background": "light"
     },
     "output_type": "display_data"
    }
   ],
   "source": [
    "plt.figure(figsize=(15,6))\n",
    "sns.countplot('Marital Status', data = data, palette='hls')\n",
    "plt.xticks(rotation = 90)\n",
    "plt.show()"
   ]
  },
  {
   "cell_type": "code",
   "execution_count": 35,
   "metadata": {},
   "outputs": [
    {
     "data": {
      "image/png": "[encoded data removed]",
      "text/plain": [
       "<Figure size 1080x432 with 1 Axes>"
      ]
     },
     "metadata": {
      "needs_background": "light"
     },
     "output_type": "display_data"
    }
   ],
   "source": [
    "plt.figure(figsize=(15,6))\n",
    "sns.countplot('Marital Status', hue = data['Stay/Left'], \n",
    "              data = data, palette='hls')\n",
    "plt.xticks(rotation = 90)\n",
    "plt.show()"
   ]
  },
  {
   "cell_type": "code",
   "execution_count": 36,
   "metadata": {},
   "outputs": [
    {
     "data": {
      "text/plain": [
       "array(['B2', 'B7', 'B3', 'B1', 'B5', 'B0', 'B4', 'B6', 'C3', 'D2'],\n",
       "      dtype=object)"
      ]
     },
     "execution_count": 36,
     "metadata": {},
     "output_type": "execute_result"
    }
   ],
   "source": [
    "data[\"Emp. Group\"].unique()"
   ]
  },
  {
   "cell_type": "code",
   "execution_count": 37,
   "metadata": {},
   "outputs": [
    {
     "data": {
      "text/plain": [
       "B1    537\n",
       "B2    276\n",
       "B3     59\n",
       "B0      8\n",
       "B4      7\n",
       "B5      4\n",
       "B7      2\n",
       "B6      1\n",
       "C3      1\n",
       "D2      1\n",
       "Name: Emp. Group, dtype: int64"
      ]
     },
     "execution_count": 37,
     "metadata": {},
     "output_type": "execute_result"
    }
   ],
   "source": [
    "data[\"Emp. Group\"].value_counts()"
   ]
  },
  {
   "cell_type": "code",
   "execution_count": 38,
   "metadata": {},
   "outputs": [
    {
     "data": {
      "image/png": "[encoded data removed]",
      "text/plain": [
       "<Figure size 1080x432 with 1 Axes>"
      ]
     },
     "metadata": {
      "needs_background": "light"
     },
     "output_type": "display_data"
    }
   ],
   "source": [
    "plt.figure(figsize=(15,6))\n",
    "sns.countplot('Emp. Group', data = data, palette='hls')\n",
    "plt.xticks(rotation = 90)\n",
    "plt.show()"
   ]
  },
  {
   "cell_type": "code",
   "execution_count": 39,
   "metadata": {},
   "outputs": [
    {
     "data": {
      "image/png": "[encoded data removed]",
      "text/plain": [
       "<Figure size 1080x432 with 1 Axes>"
      ]
     },
     "metadata": {
      "needs_background": "light"
     },
     "output_type": "display_data"
    }
   ],
   "source": [
    "plt.figure(figsize=(15,6))\n",
    "sns.countplot('Emp. Group', hue = data['Stay/Left'], \n",
    "              data = data, palette='hls')\n",
    "plt.xticks(rotation = 90)\n",
    "plt.show()"
   ]
  },
  {
   "cell_type": "code",
   "execution_count": 40,
   "metadata": {},
   "outputs": [
    {
     "data": {
      "text/plain": [
       "array(['Yes', 'No'], dtype=object)"
      ]
     },
     "execution_count": 40,
     "metadata": {},
     "output_type": "execute_result"
    }
   ],
   "source": [
    "data[\"Job Role Match\"].unique()"
   ]
  },
  {
   "cell_type": "code",
   "execution_count": 41,
   "metadata": {},
   "outputs": [
    {
     "data": {
      "text/plain": [
       "Yes    481\n",
       "No     415\n",
       "Name: Job Role Match, dtype: int64"
      ]
     },
     "execution_count": 41,
     "metadata": {},
     "output_type": "execute_result"
    }
   ],
   "source": [
    "data[\"Job Role Match\"].value_counts()"
   ]
  },
  {
   "cell_type": "code",
   "execution_count": 42,
   "metadata": {},
   "outputs": [
    {
     "data": {
      "image/png": "[encoded data removed]",
      "text/plain": [
       "<Figure size 1080x432 with 1 Axes>"
      ]
     },
     "metadata": {
      "needs_background": "light"
     },
     "output_type": "display_data"
    }
   ],
   "source": [
    "plt.figure(figsize=(15,6))\n",
    "sns.countplot('Job Role Match', data = data, palette='hls')\n",
    "plt.xticks(rotation = 90)\n",
    "plt.show()"
   ]
  },
  {
   "cell_type": "code",
   "execution_count": 43,
   "metadata": {},
   "outputs": [
    {
     "data": {
      "image/png": "[encoded data removed]",
      "text/plain": [
       "<Figure size 1080x432 with 1 Axes>"
      ]
     },
     "metadata": {
      "needs_background": "light"
     },
     "output_type": "display_data"
    }
   ],
   "source": [
    "plt.figure(figsize=(15,6))\n",
    "sns.countplot('Job Role Match', hue = data['Stay/Left'], \n",
    "              data = data, palette='hls')\n",
    "plt.xticks(rotation = 90)\n",
    "plt.show()"
   ]
  },
  {
   "cell_type": "code",
   "execution_count": 44,
   "metadata": {},
   "outputs": [
    {
     "data": {
      "text/plain": [
       "array(['< =1', '> 1 & < =3'], dtype=object)"
      ]
     },
     "execution_count": 44,
     "metadata": {},
     "output_type": "execute_result"
    }
   ],
   "source": [
    "data[\"Tenure Grp.\"].unique()"
   ]
  },
  {
   "cell_type": "code",
   "execution_count": 45,
   "metadata": {},
   "outputs": [
    {
     "data": {
      "text/plain": [
       "> 1 & < =3    626\n",
       "< =1          270\n",
       "Name: Tenure Grp., dtype: int64"
      ]
     },
     "execution_count": 45,
     "metadata": {},
     "output_type": "execute_result"
    }
   ],
   "source": [
    "data[\"Tenure Grp.\"].value_counts()"
   ]
  },
  {
   "cell_type": "code",
   "execution_count": 46,
   "metadata": {},
   "outputs": [
    {
     "data": {
      "image/png": "[encoded data removed]",
      "text/plain": [
       "<Figure size 1080x432 with 1 Axes>"
      ]
     },
     "metadata": {
      "needs_background": "light"
     },
     "output_type": "display_data"
    }
   ],
   "source": [
    "plt.figure(figsize=(15,6))\n",
    "sns.countplot('Tenure Grp.', data = data, palette='hls')\n",
    "plt.xticks(rotation = 90)\n",
    "plt.show()"
   ]
  },
  {
   "cell_type": "code",
   "execution_count": 47,
   "metadata": {},
   "outputs": [
    {
     "data": {
      "image/png": "[encoded data removed]",
      "text/plain": [
       "<Figure size 1080x432 with 1 Axes>"
      ]
     },
     "metadata": {
      "needs_background": "light"
     },
     "output_type": "display_data"
    }
   ],
   "source": [
    "plt.figure(figsize=(15,6))\n",
    "sns.countplot('Tenure Grp.', hue = data['Stay/Left'], \n",
    "              data = data, palette='hls')\n",
    "plt.xticks(rotation = 90)\n",
    "plt.show()"
   ]
  },
  {
   "cell_type": "code",
   "execution_count": 48,
   "metadata": {},
   "outputs": [
    {
     "data": {
      "text/plain": [
       "<Figure size 1080x432 with 0 Axes>"
      ]
     },
     "metadata": {},
     "output_type": "display_data"
    },
    {
     "data": {
      "image/png": "[encoded data removed]",
      "text/plain": [
       "<Figure size 432x432 with 3 Axes>"
      ]
     },
     "metadata": {
      "needs_background": "light"
     },
     "output_type": "display_data"
    }
   ],
   "source": [
    "plt.figure(figsize=(15,6))\n",
    "sns.jointplot(x='Stay/Left',y='Age in YY.',data = data)\n",
    "plt.xticks(rotation = 90)\n",
    "plt.show()"
   ]
  },
  {
   "cell_type": "code",
   "execution_count": 49,
   "metadata": {},
   "outputs": [
    {
     "data": {
      "text/plain": [
       "<Figure size 1080x432 with 0 Axes>"
      ]
     },
     "metadata": {},
     "output_type": "display_data"
    },
    {
     "data": {
      "image/png": "[encoded data removed]",
      "text/plain": [
       "<Figure size 432x432 with 3 Axes>"
      ]
     },
     "metadata": {
      "needs_background": "light"
     },
     "output_type": "display_data"
    }
   ],
   "source": [
    "plt.figure(figsize=(15,6))\n",
    "sns.jointplot(x='Stay/Left',y='Experience (YY.MM)',data = data)\n",
    "plt.xticks(rotation = 90)\n",
    "plt.show()"
   ]
  },
  {
   "cell_type": "code",
   "execution_count": 51,
   "metadata": {},
   "outputs": [
    {
     "data": {
      "text/html": [
       "<div>\n",
       "<style scoped>\n",
       "    .dataframe tbody tr th:only-of-type {\n",
       "        vertical-align: middle;\n",
       "    }\n",
       "\n",
       "    .dataframe tbody tr th {\n",
       "        vertical-align: top;\n",
       "    }\n",
       "\n",
       "    .dataframe thead th {\n",
       "        text-align: right;\n",
       "    }\n",
       "</style>\n",
       "<table border=\"1\" class=\"dataframe\">\n",
       "  <thead>\n",
       "    <tr style=\"text-align: right;\">\n",
       "      <th></th>\n",
       "      <th>table id</th>\n",
       "      <th>phone number</th>\n",
       "      <th>Tenure</th>\n",
       "      <th>Experience (YY.MM)</th>\n",
       "      <th>Age in YY.</th>\n",
       "    </tr>\n",
       "  </thead>\n",
       "  <tbody>\n",
       "    <tr>\n",
       "      <th>table id</th>\n",
       "      <td>1.000000</td>\n",
       "      <td>NaN</td>\n",
       "      <td>0.853930</td>\n",
       "      <td>-0.067206</td>\n",
       "      <td>-0.111546</td>\n",
       "    </tr>\n",
       "    <tr>\n",
       "      <th>phone number</th>\n",
       "      <td>NaN</td>\n",
       "      <td>NaN</td>\n",
       "      <td>NaN</td>\n",
       "      <td>NaN</td>\n",
       "      <td>NaN</td>\n",
       "    </tr>\n",
       "    <tr>\n",
       "      <th>Tenure</th>\n",
       "      <td>0.853930</td>\n",
       "      <td>NaN</td>\n",
       "      <td>1.000000</td>\n",
       "      <td>-0.050179</td>\n",
       "      <td>-0.079193</td>\n",
       "    </tr>\n",
       "    <tr>\n",
       "      <th>Experience (YY.MM)</th>\n",
       "      <td>-0.067206</td>\n",
       "      <td>NaN</td>\n",
       "      <td>-0.050179</td>\n",
       "      <td>1.000000</td>\n",
       "      <td>0.834944</td>\n",
       "    </tr>\n",
       "    <tr>\n",
       "      <th>Age in YY.</th>\n",
       "      <td>-0.111546</td>\n",
       "      <td>NaN</td>\n",
       "      <td>-0.079193</td>\n",
       "      <td>0.834944</td>\n",
       "      <td>1.000000</td>\n",
       "    </tr>\n",
       "  </tbody>\n",
       "</table>\n",
       "</div>"
      ],
      "text/plain": [
       "                    table id  phone number    Tenure  Experience (YY.MM)  \\\n",
       "table id            1.000000           NaN  0.853930           -0.067206   \n",
       "phone number             NaN           NaN       NaN                 NaN   \n",
       "Tenure              0.853930           NaN  1.000000           -0.050179   \n",
       "Experience (YY.MM) -0.067206           NaN -0.050179            1.000000   \n",
       "Age in YY.         -0.111546           NaN -0.079193            0.834944   \n",
       "\n",
       "                    Age in YY.  \n",
       "table id             -0.111546  \n",
       "phone number               NaN  \n",
       "Tenure               -0.079193  \n",
       "Experience (YY.MM)    0.834944  \n",
       "Age in YY.            1.000000  "
      ]
     },
     "execution_count": 51,
     "metadata": {},
     "output_type": "execute_result"
    }
   ],
   "source": [
    "corr_matrix=data.corr()\n",
    "corr_matrix"
   ]
  },
  {
   "cell_type": "code",
   "execution_count": 52,
   "metadata": {},
   "outputs": [
    {
     "data": {
      "image/png": "[encoded data removed]",
      "text/plain": [
       "<Figure size 1080x720 with 2 Axes>"
      ]
     },
     "metadata": {
      "needs_background": "light"
     },
     "output_type": "display_data"
    }
   ],
   "source": [
    "fig,ax=plt.subplots(figsize=(15,10))\n",
    "ax=sns.heatmap(corr_matrix,\n",
    "               annot=True,\n",
    "               linewidths=0.5,\n",
    "               fmt=\".2f\"\n",
    "              )"
   ]
  },
  {
   "cell_type": "code",
   "execution_count": 53,
   "metadata": {},
   "outputs": [
    {
     "name": "stdout",
     "output_type": "stream",
     "text": [
      "Chennai       255\n",
      "Noida         236\n",
      "Bangalore     210\n",
      "Hyderabad      62\n",
      "Pune           56\n",
      "Madurai        29\n",
      "Lucknow        20\n",
      "Nagpur         14\n",
      "Vijayawada      6\n",
      "Mumbai          4\n",
      "Gurgaon         3\n",
      "Kolkata         1\n",
      "Name: Location, dtype: int64\n",
      "{'Chennai': 7, 'Noida': 6, 'Bangalore': 5, 'Hyderabad': 4, 'Pune': 3, 'Madurai': 2, 'Lucknow': 1, 'other place': 0}\n"
     ]
    }
   ],
   "source": [
    "location_dict = data[\"Location\"].value_counts()\n",
    "print(location_dict)\n",
    "\n",
    "location_dict_new = {\n",
    "    'Chennai':       7,\n",
    "    'Noida':         6,\n",
    "    'Bangalore':     5,\n",
    "    'Hyderabad':     4,\n",
    "    'Pune':          3,\n",
    "    'Madurai':       2,\n",
    "    'Lucknow':       1,\n",
    "    'other place':   0,\n",
    "}\n",
    "\n",
    "print(location_dict_new)"
   ]
  },
  {
   "cell_type": "code",
   "execution_count": 54,
   "metadata": {},
   "outputs": [
    {
     "data": {
      "text/html": [
       "<div>\n",
       "<style scoped>\n",
       "    .dataframe tbody tr th:only-of-type {\n",
       "        vertical-align: middle;\n",
       "    }\n",
       "\n",
       "    .dataframe tbody tr th {\n",
       "        vertical-align: top;\n",
       "    }\n",
       "\n",
       "    .dataframe thead th {\n",
       "        text-align: right;\n",
       "    }\n",
       "</style>\n",
       "<table border=\"1\" class=\"dataframe\">\n",
       "  <thead>\n",
       "    <tr style=\"text-align: right;\">\n",
       "      <th></th>\n",
       "      <th>table id</th>\n",
       "      <th>name</th>\n",
       "      <th>phone number</th>\n",
       "      <th>Location</th>\n",
       "      <th>Emp. Group</th>\n",
       "      <th>Function</th>\n",
       "      <th>Gender</th>\n",
       "      <th>Tenure</th>\n",
       "      <th>Tenure Grp.</th>\n",
       "      <th>Experience (YY.MM)</th>\n",
       "      <th>Marital Status</th>\n",
       "      <th>Age in YY.</th>\n",
       "      <th>Hiring Source</th>\n",
       "      <th>Promoted/Non Promoted</th>\n",
       "      <th>Job Role Match</th>\n",
       "      <th>Stay/Left</th>\n",
       "      <th>New Location</th>\n",
       "    </tr>\n",
       "  </thead>\n",
       "  <tbody>\n",
       "    <tr>\n",
       "      <th>0</th>\n",
       "      <td>1</td>\n",
       "      <td>sid</td>\n",
       "      <td>9876544345</td>\n",
       "      <td>Pune</td>\n",
       "      <td>B2</td>\n",
       "      <td>Operation</td>\n",
       "      <td>Male</td>\n",
       "      <td>0.00</td>\n",
       "      <td>&lt; =1</td>\n",
       "      <td>6.08</td>\n",
       "      <td>Single</td>\n",
       "      <td>27.12</td>\n",
       "      <td>Direct</td>\n",
       "      <td>Non Promoted</td>\n",
       "      <td>Yes</td>\n",
       "      <td>Left</td>\n",
       "      <td>3</td>\n",
       "    </tr>\n",
       "    <tr>\n",
       "      <th>1</th>\n",
       "      <td>2</td>\n",
       "      <td>sid</td>\n",
       "      <td>9876544345</td>\n",
       "      <td>Noida</td>\n",
       "      <td>B7</td>\n",
       "      <td>Support</td>\n",
       "      <td>Male</td>\n",
       "      <td>0.00</td>\n",
       "      <td>&lt; =1</td>\n",
       "      <td>13.00</td>\n",
       "      <td>Marr.</td>\n",
       "      <td>38.08</td>\n",
       "      <td>Direct</td>\n",
       "      <td>Promoted</td>\n",
       "      <td>No</td>\n",
       "      <td>Stay</td>\n",
       "      <td>6</td>\n",
       "    </tr>\n",
       "    <tr>\n",
       "      <th>2</th>\n",
       "      <td>3</td>\n",
       "      <td>sid</td>\n",
       "      <td>9876544345</td>\n",
       "      <td>Bangalore</td>\n",
       "      <td>B3</td>\n",
       "      <td>Operation</td>\n",
       "      <td>Male</td>\n",
       "      <td>0.01</td>\n",
       "      <td>&lt; =1</td>\n",
       "      <td>16.05</td>\n",
       "      <td>Marr.</td>\n",
       "      <td>36.04</td>\n",
       "      <td>Direct</td>\n",
       "      <td>Promoted</td>\n",
       "      <td>Yes</td>\n",
       "      <td>Stay</td>\n",
       "      <td>5</td>\n",
       "    </tr>\n",
       "    <tr>\n",
       "      <th>3</th>\n",
       "      <td>4</td>\n",
       "      <td>sid</td>\n",
       "      <td>9876544345</td>\n",
       "      <td>Noida</td>\n",
       "      <td>B2</td>\n",
       "      <td>Operation</td>\n",
       "      <td>Male</td>\n",
       "      <td>0.01</td>\n",
       "      <td>&lt; =1</td>\n",
       "      <td>6.06</td>\n",
       "      <td>Marr.</td>\n",
       "      <td>32.07</td>\n",
       "      <td>Direct</td>\n",
       "      <td>Promoted</td>\n",
       "      <td>Yes</td>\n",
       "      <td>Stay</td>\n",
       "      <td>6</td>\n",
       "    </tr>\n",
       "    <tr>\n",
       "      <th>4</th>\n",
       "      <td>5</td>\n",
       "      <td>sid</td>\n",
       "      <td>9876544345</td>\n",
       "      <td>Lucknow</td>\n",
       "      <td>B2</td>\n",
       "      <td>Operation</td>\n",
       "      <td>Male</td>\n",
       "      <td>0.00</td>\n",
       "      <td>&lt; =1</td>\n",
       "      <td>7.00</td>\n",
       "      <td>Marr.</td>\n",
       "      <td>32.05</td>\n",
       "      <td>Direct</td>\n",
       "      <td>Non Promoted</td>\n",
       "      <td>Yes</td>\n",
       "      <td>Stay</td>\n",
       "      <td>1</td>\n",
       "    </tr>\n",
       "  </tbody>\n",
       "</table>\n",
       "</div>"
      ],
      "text/plain": [
       "   table id name  phone number   Location Emp. Group   Function Gender   \\\n",
       "0         1  sid    9876544345       Pune         B2  Operation    Male   \n",
       "1         2  sid    9876544345      Noida         B7    Support    Male   \n",
       "2         3  sid    9876544345  Bangalore         B3  Operation    Male   \n",
       "3         4  sid    9876544345      Noida         B2  Operation    Male   \n",
       "4         5  sid    9876544345    Lucknow         B2  Operation    Male   \n",
       "\n",
       "   Tenure Tenure Grp.  Experience (YY.MM) Marital Status  Age in YY.  \\\n",
       "0    0.00        < =1                6.08         Single       27.12   \n",
       "1    0.00        < =1               13.00          Marr.       38.08   \n",
       "2    0.01        < =1               16.05          Marr.       36.04   \n",
       "3    0.01        < =1                6.06          Marr.       32.07   \n",
       "4    0.00        < =1                7.00          Marr.       32.05   \n",
       "\n",
       "  Hiring Source Promoted/Non Promoted Job Role Match Stay/Left  New Location  \n",
       "0        Direct          Non Promoted            Yes      Left             3  \n",
       "1        Direct              Promoted             No      Stay             6  \n",
       "2        Direct              Promoted            Yes      Stay             5  \n",
       "3        Direct              Promoted            Yes      Stay             6  \n",
       "4        Direct          Non Promoted            Yes      Stay             1  "
      ]
     },
     "execution_count": 54,
     "metadata": {},
     "output_type": "execute_result"
    }
   ],
   "source": [
    "def location(x):\n",
    "    if str(x) in location_dict_new.keys():\n",
    "        return location_dict_new[str(x)]\n",
    "    else:\n",
    "        return location_dict_new['other place']\n",
    "    \n",
    "data_l = data[\"Location\"].apply(location)\n",
    "data['New Location'] = data_l\n",
    "data.head()"
   ]
  },
  {
   "cell_type": "code",
   "execution_count": 55,
   "metadata": {},
   "outputs": [
    {
     "data": {
      "text/html": [
       "<div>\n",
       "<style scoped>\n",
       "    .dataframe tbody tr th:only-of-type {\n",
       "        vertical-align: middle;\n",
       "    }\n",
       "\n",
       "    .dataframe tbody tr th {\n",
       "        vertical-align: top;\n",
       "    }\n",
       "\n",
       "    .dataframe thead th {\n",
       "        text-align: right;\n",
       "    }\n",
       "</style>\n",
       "<table border=\"1\" class=\"dataframe\">\n",
       "  <thead>\n",
       "    <tr style=\"text-align: right;\">\n",
       "      <th></th>\n",
       "      <th>Operation</th>\n",
       "      <th>Sales</th>\n",
       "      <th>Support</th>\n",
       "    </tr>\n",
       "  </thead>\n",
       "  <tbody>\n",
       "    <tr>\n",
       "      <th>0</th>\n",
       "      <td>1</td>\n",
       "      <td>0</td>\n",
       "      <td>0</td>\n",
       "    </tr>\n",
       "    <tr>\n",
       "      <th>1</th>\n",
       "      <td>0</td>\n",
       "      <td>0</td>\n",
       "      <td>1</td>\n",
       "    </tr>\n",
       "    <tr>\n",
       "      <th>2</th>\n",
       "      <td>1</td>\n",
       "      <td>0</td>\n",
       "      <td>0</td>\n",
       "    </tr>\n",
       "    <tr>\n",
       "      <th>3</th>\n",
       "      <td>1</td>\n",
       "      <td>0</td>\n",
       "      <td>0</td>\n",
       "    </tr>\n",
       "    <tr>\n",
       "      <th>4</th>\n",
       "      <td>1</td>\n",
       "      <td>0</td>\n",
       "      <td>0</td>\n",
       "    </tr>\n",
       "  </tbody>\n",
       "</table>\n",
       "</div>"
      ],
      "text/plain": [
       "   Operation  Sales  Support\n",
       "0          1      0        0\n",
       "1          0      0        1\n",
       "2          1      0        0\n",
       "3          1      0        0\n",
       "4          1      0        0"
      ]
     },
     "execution_count": 55,
     "metadata": {},
     "output_type": "execute_result"
    }
   ],
   "source": [
    "gen = pd.get_dummies(data[\"Function\"])\n",
    "gen.head()"
   ]
  },
  {
   "cell_type": "code",
   "execution_count": 56,
   "metadata": {},
   "outputs": [
    {
     "data": {
      "text/html": [
       "<div>\n",
       "<style scoped>\n",
       "    .dataframe tbody tr th:only-of-type {\n",
       "        vertical-align: middle;\n",
       "    }\n",
       "\n",
       "    .dataframe tbody tr th {\n",
       "        vertical-align: top;\n",
       "    }\n",
       "\n",
       "    .dataframe thead th {\n",
       "        text-align: right;\n",
       "    }\n",
       "</style>\n",
       "<table border=\"1\" class=\"dataframe\">\n",
       "  <thead>\n",
       "    <tr style=\"text-align: right;\">\n",
       "      <th></th>\n",
       "      <th>Agency</th>\n",
       "      <th>Direct</th>\n",
       "      <th>Employee Referral</th>\n",
       "    </tr>\n",
       "  </thead>\n",
       "  <tbody>\n",
       "    <tr>\n",
       "      <th>0</th>\n",
       "      <td>0</td>\n",
       "      <td>1</td>\n",
       "      <td>0</td>\n",
       "    </tr>\n",
       "    <tr>\n",
       "      <th>1</th>\n",
       "      <td>0</td>\n",
       "      <td>1</td>\n",
       "      <td>0</td>\n",
       "    </tr>\n",
       "    <tr>\n",
       "      <th>2</th>\n",
       "      <td>0</td>\n",
       "      <td>1</td>\n",
       "      <td>0</td>\n",
       "    </tr>\n",
       "    <tr>\n",
       "      <th>3</th>\n",
       "      <td>0</td>\n",
       "      <td>1</td>\n",
       "      <td>0</td>\n",
       "    </tr>\n",
       "    <tr>\n",
       "      <th>4</th>\n",
       "      <td>0</td>\n",
       "      <td>1</td>\n",
       "      <td>0</td>\n",
       "    </tr>\n",
       "  </tbody>\n",
       "</table>\n",
       "</div>"
      ],
      "text/plain": [
       "   Agency  Direct  Employee Referral\n",
       "0       0       1                  0\n",
       "1       0       1                  0\n",
       "2       0       1                  0\n",
       "3       0       1                  0\n",
       "4       0       1                  0"
      ]
     },
     "execution_count": 56,
     "metadata": {},
     "output_type": "execute_result"
    }
   ],
   "source": [
    "hr = pd.get_dummies(data[\"Hiring Source\"])\n",
    "hr.head()"
   ]
  },
  {
   "cell_type": "code",
   "execution_count": 58,
   "metadata": {},
   "outputs": [],
   "source": [
    "Marital_dict = data[\"Marital Status\"].value_counts()"
   ]
  },
  {
   "cell_type": "code",
   "execution_count": 59,
   "metadata": {},
   "outputs": [
    {
     "data": {
      "text/html": [
       "<div>\n",
       "<style scoped>\n",
       "    .dataframe tbody tr th:only-of-type {\n",
       "        vertical-align: middle;\n",
       "    }\n",
       "\n",
       "    .dataframe tbody tr th {\n",
       "        vertical-align: top;\n",
       "    }\n",
       "\n",
       "    .dataframe thead th {\n",
       "        text-align: right;\n",
       "    }\n",
       "</style>\n",
       "<table border=\"1\" class=\"dataframe\">\n",
       "  <thead>\n",
       "    <tr style=\"text-align: right;\">\n",
       "      <th></th>\n",
       "      <th>table id</th>\n",
       "      <th>name</th>\n",
       "      <th>phone number</th>\n",
       "      <th>Location</th>\n",
       "      <th>Emp. Group</th>\n",
       "      <th>Function</th>\n",
       "      <th>Gender</th>\n",
       "      <th>Tenure</th>\n",
       "      <th>Tenure Grp.</th>\n",
       "      <th>Experience (YY.MM)</th>\n",
       "      <th>Marital Status</th>\n",
       "      <th>Age in YY.</th>\n",
       "      <th>Hiring Source</th>\n",
       "      <th>Promoted/Non Promoted</th>\n",
       "      <th>Job Role Match</th>\n",
       "      <th>Stay/Left</th>\n",
       "      <th>New Location</th>\n",
       "      <th>New Marital</th>\n",
       "    </tr>\n",
       "  </thead>\n",
       "  <tbody>\n",
       "    <tr>\n",
       "      <th>0</th>\n",
       "      <td>1</td>\n",
       "      <td>sid</td>\n",
       "      <td>9876544345</td>\n",
       "      <td>Pune</td>\n",
       "      <td>B2</td>\n",
       "      <td>Operation</td>\n",
       "      <td>Male</td>\n",
       "      <td>0.00</td>\n",
       "      <td>&lt; =1</td>\n",
       "      <td>6.08</td>\n",
       "      <td>Single</td>\n",
       "      <td>27.12</td>\n",
       "      <td>Direct</td>\n",
       "      <td>Non Promoted</td>\n",
       "      <td>Yes</td>\n",
       "      <td>Left</td>\n",
       "      <td>3</td>\n",
       "      <td>Single</td>\n",
       "    </tr>\n",
       "    <tr>\n",
       "      <th>1</th>\n",
       "      <td>2</td>\n",
       "      <td>sid</td>\n",
       "      <td>9876544345</td>\n",
       "      <td>Noida</td>\n",
       "      <td>B7</td>\n",
       "      <td>Support</td>\n",
       "      <td>Male</td>\n",
       "      <td>0.00</td>\n",
       "      <td>&lt; =1</td>\n",
       "      <td>13.00</td>\n",
       "      <td>Marr.</td>\n",
       "      <td>38.08</td>\n",
       "      <td>Direct</td>\n",
       "      <td>Promoted</td>\n",
       "      <td>No</td>\n",
       "      <td>Stay</td>\n",
       "      <td>6</td>\n",
       "      <td>Marr.</td>\n",
       "    </tr>\n",
       "    <tr>\n",
       "      <th>2</th>\n",
       "      <td>3</td>\n",
       "      <td>sid</td>\n",
       "      <td>9876544345</td>\n",
       "      <td>Bangalore</td>\n",
       "      <td>B3</td>\n",
       "      <td>Operation</td>\n",
       "      <td>Male</td>\n",
       "      <td>0.01</td>\n",
       "      <td>&lt; =1</td>\n",
       "      <td>16.05</td>\n",
       "      <td>Marr.</td>\n",
       "      <td>36.04</td>\n",
       "      <td>Direct</td>\n",
       "      <td>Promoted</td>\n",
       "      <td>Yes</td>\n",
       "      <td>Stay</td>\n",
       "      <td>5</td>\n",
       "      <td>Marr.</td>\n",
       "    </tr>\n",
       "    <tr>\n",
       "      <th>3</th>\n",
       "      <td>4</td>\n",
       "      <td>sid</td>\n",
       "      <td>9876544345</td>\n",
       "      <td>Noida</td>\n",
       "      <td>B2</td>\n",
       "      <td>Operation</td>\n",
       "      <td>Male</td>\n",
       "      <td>0.01</td>\n",
       "      <td>&lt; =1</td>\n",
       "      <td>6.06</td>\n",
       "      <td>Marr.</td>\n",
       "      <td>32.07</td>\n",
       "      <td>Direct</td>\n",
       "      <td>Promoted</td>\n",
       "      <td>Yes</td>\n",
       "      <td>Stay</td>\n",
       "      <td>6</td>\n",
       "      <td>Marr.</td>\n",
       "    </tr>\n",
       "    <tr>\n",
       "      <th>4</th>\n",
       "      <td>5</td>\n",
       "      <td>sid</td>\n",
       "      <td>9876544345</td>\n",
       "      <td>Lucknow</td>\n",
       "      <td>B2</td>\n",
       "      <td>Operation</td>\n",
       "      <td>Male</td>\n",
       "      <td>0.00</td>\n",
       "      <td>&lt; =1</td>\n",
       "      <td>7.00</td>\n",
       "      <td>Marr.</td>\n",
       "      <td>32.05</td>\n",
       "      <td>Direct</td>\n",
       "      <td>Non Promoted</td>\n",
       "      <td>Yes</td>\n",
       "      <td>Stay</td>\n",
       "      <td>1</td>\n",
       "      <td>Marr.</td>\n",
       "    </tr>\n",
       "  </tbody>\n",
       "</table>\n",
       "</div>"
      ],
      "text/plain": [
       "   table id name  phone number   Location Emp. Group   Function Gender   \\\n",
       "0         1  sid    9876544345       Pune         B2  Operation    Male   \n",
       "1         2  sid    9876544345      Noida         B7    Support    Male   \n",
       "2         3  sid    9876544345  Bangalore         B3  Operation    Male   \n",
       "3         4  sid    9876544345      Noida         B2  Operation    Male   \n",
       "4         5  sid    9876544345    Lucknow         B2  Operation    Male   \n",
       "\n",
       "   Tenure Tenure Grp.  Experience (YY.MM) Marital Status  Age in YY.  \\\n",
       "0    0.00        < =1                6.08         Single       27.12   \n",
       "1    0.00        < =1               13.00          Marr.       38.08   \n",
       "2    0.01        < =1               16.05          Marr.       36.04   \n",
       "3    0.01        < =1                6.06          Marr.       32.07   \n",
       "4    0.00        < =1                7.00          Marr.       32.05   \n",
       "\n",
       "  Hiring Source Promoted/Non Promoted Job Role Match Stay/Left  New Location  \\\n",
       "0        Direct          Non Promoted            Yes      Left             3   \n",
       "1        Direct              Promoted             No      Stay             6   \n",
       "2        Direct              Promoted            Yes      Stay             5   \n",
       "3        Direct              Promoted            Yes      Stay             6   \n",
       "4        Direct          Non Promoted            Yes      Stay             1   \n",
       "\n",
       "  New Marital  \n",
       "0      Single  \n",
       "1       Marr.  \n",
       "2       Marr.  \n",
       "3       Marr.  \n",
       "4       Marr.  "
      ]
     },
     "execution_count": 59,
     "metadata": {},
     "output_type": "execute_result"
    }
   ],
   "source": [
    "def Mar(x):\n",
    "    if str(x) in Marital_dict.keys() and Marital_dict[str(x)] > 100:\n",
    "        return str(x)\n",
    "    else:\n",
    "        return 'other status'\n",
    "    \n",
    "data_l = data[\"Marital Status\"].apply(Mar)\n",
    "data['New Marital'] = data_l\n",
    "data.head()"
   ]
  },
  {
   "cell_type": "code",
   "execution_count": 61,
   "metadata": {},
   "outputs": [
    {
     "data": {
      "text/html": [
       "<div>\n",
       "<style scoped>\n",
       "    .dataframe tbody tr th:only-of-type {\n",
       "        vertical-align: middle;\n",
       "    }\n",
       "\n",
       "    .dataframe tbody tr th {\n",
       "        vertical-align: top;\n",
       "    }\n",
       "\n",
       "    .dataframe thead th {\n",
       "        text-align: right;\n",
       "    }\n",
       "</style>\n",
       "<table border=\"1\" class=\"dataframe\">\n",
       "  <thead>\n",
       "    <tr style=\"text-align: right;\">\n",
       "      <th></th>\n",
       "      <th>Marr.</th>\n",
       "      <th>Single</th>\n",
       "      <th>other status</th>\n",
       "    </tr>\n",
       "  </thead>\n",
       "  <tbody>\n",
       "    <tr>\n",
       "      <th>0</th>\n",
       "      <td>0</td>\n",
       "      <td>1</td>\n",
       "      <td>0</td>\n",
       "    </tr>\n",
       "    <tr>\n",
       "      <th>1</th>\n",
       "      <td>1</td>\n",
       "      <td>0</td>\n",
       "      <td>0</td>\n",
       "    </tr>\n",
       "    <tr>\n",
       "      <th>2</th>\n",
       "      <td>1</td>\n",
       "      <td>0</td>\n",
       "      <td>0</td>\n",
       "    </tr>\n",
       "    <tr>\n",
       "      <th>3</th>\n",
       "      <td>1</td>\n",
       "      <td>0</td>\n",
       "      <td>0</td>\n",
       "    </tr>\n",
       "    <tr>\n",
       "      <th>4</th>\n",
       "      <td>1</td>\n",
       "      <td>0</td>\n",
       "      <td>0</td>\n",
       "    </tr>\n",
       "  </tbody>\n",
       "</table>\n",
       "</div>"
      ],
      "text/plain": [
       "   Marr.  Single  other status\n",
       "0      0       1             0\n",
       "1      1       0             0\n",
       "2      1       0             0\n",
       "3      1       0             0\n",
       "4      1       0             0"
      ]
     },
     "execution_count": 61,
     "metadata": {},
     "output_type": "execute_result"
    }
   ],
   "source": [
    "Mr = pd.get_dummies(data[\"New Marital\"])\n",
    "Mr.head()"
   ]
  },
  {
   "cell_type": "code",
   "execution_count": 62,
   "metadata": {},
   "outputs": [
    {
     "data": {
      "text/html": [
       "<div>\n",
       "<style scoped>\n",
       "    .dataframe tbody tr th:only-of-type {\n",
       "        vertical-align: middle;\n",
       "    }\n",
       "\n",
       "    .dataframe tbody tr th {\n",
       "        vertical-align: top;\n",
       "    }\n",
       "\n",
       "    .dataframe thead th {\n",
       "        text-align: right;\n",
       "    }\n",
       "</style>\n",
       "<table border=\"1\" class=\"dataframe\">\n",
       "  <thead>\n",
       "    <tr style=\"text-align: right;\">\n",
       "      <th></th>\n",
       "      <th>table id</th>\n",
       "      <th>name</th>\n",
       "      <th>phone number</th>\n",
       "      <th>Location</th>\n",
       "      <th>Emp. Group</th>\n",
       "      <th>Function</th>\n",
       "      <th>Gender</th>\n",
       "      <th>Tenure</th>\n",
       "      <th>Tenure Grp.</th>\n",
       "      <th>Experience (YY.MM)</th>\n",
       "      <th>Marital Status</th>\n",
       "      <th>Age in YY.</th>\n",
       "      <th>Hiring Source</th>\n",
       "      <th>Promoted/Non Promoted</th>\n",
       "      <th>Job Role Match</th>\n",
       "      <th>Stay/Left</th>\n",
       "      <th>New Location</th>\n",
       "      <th>New Marital</th>\n",
       "      <th>New Promotion</th>\n",
       "    </tr>\n",
       "  </thead>\n",
       "  <tbody>\n",
       "    <tr>\n",
       "      <th>0</th>\n",
       "      <td>1</td>\n",
       "      <td>sid</td>\n",
       "      <td>9876544345</td>\n",
       "      <td>Pune</td>\n",
       "      <td>B2</td>\n",
       "      <td>Operation</td>\n",
       "      <td>Male</td>\n",
       "      <td>0.00</td>\n",
       "      <td>&lt; =1</td>\n",
       "      <td>6.08</td>\n",
       "      <td>Single</td>\n",
       "      <td>27.12</td>\n",
       "      <td>Direct</td>\n",
       "      <td>Non Promoted</td>\n",
       "      <td>Yes</td>\n",
       "      <td>Left</td>\n",
       "      <td>3</td>\n",
       "      <td>Single</td>\n",
       "      <td>0</td>\n",
       "    </tr>\n",
       "    <tr>\n",
       "      <th>1</th>\n",
       "      <td>2</td>\n",
       "      <td>sid</td>\n",
       "      <td>9876544345</td>\n",
       "      <td>Noida</td>\n",
       "      <td>B7</td>\n",
       "      <td>Support</td>\n",
       "      <td>Male</td>\n",
       "      <td>0.00</td>\n",
       "      <td>&lt; =1</td>\n",
       "      <td>13.00</td>\n",
       "      <td>Marr.</td>\n",
       "      <td>38.08</td>\n",
       "      <td>Direct</td>\n",
       "      <td>Promoted</td>\n",
       "      <td>No</td>\n",
       "      <td>Stay</td>\n",
       "      <td>6</td>\n",
       "      <td>Marr.</td>\n",
       "      <td>1</td>\n",
       "    </tr>\n",
       "    <tr>\n",
       "      <th>2</th>\n",
       "      <td>3</td>\n",
       "      <td>sid</td>\n",
       "      <td>9876544345</td>\n",
       "      <td>Bangalore</td>\n",
       "      <td>B3</td>\n",
       "      <td>Operation</td>\n",
       "      <td>Male</td>\n",
       "      <td>0.01</td>\n",
       "      <td>&lt; =1</td>\n",
       "      <td>16.05</td>\n",
       "      <td>Marr.</td>\n",
       "      <td>36.04</td>\n",
       "      <td>Direct</td>\n",
       "      <td>Promoted</td>\n",
       "      <td>Yes</td>\n",
       "      <td>Stay</td>\n",
       "      <td>5</td>\n",
       "      <td>Marr.</td>\n",
       "      <td>1</td>\n",
       "    </tr>\n",
       "    <tr>\n",
       "      <th>3</th>\n",
       "      <td>4</td>\n",
       "      <td>sid</td>\n",
       "      <td>9876544345</td>\n",
       "      <td>Noida</td>\n",
       "      <td>B2</td>\n",
       "      <td>Operation</td>\n",
       "      <td>Male</td>\n",
       "      <td>0.01</td>\n",
       "      <td>&lt; =1</td>\n",
       "      <td>6.06</td>\n",
       "      <td>Marr.</td>\n",
       "      <td>32.07</td>\n",
       "      <td>Direct</td>\n",
       "      <td>Promoted</td>\n",
       "      <td>Yes</td>\n",
       "      <td>Stay</td>\n",
       "      <td>6</td>\n",
       "      <td>Marr.</td>\n",
       "      <td>1</td>\n",
       "    </tr>\n",
       "    <tr>\n",
       "      <th>4</th>\n",
       "      <td>5</td>\n",
       "      <td>sid</td>\n",
       "      <td>9876544345</td>\n",
       "      <td>Lucknow</td>\n",
       "      <td>B2</td>\n",
       "      <td>Operation</td>\n",
       "      <td>Male</td>\n",
       "      <td>0.00</td>\n",
       "      <td>&lt; =1</td>\n",
       "      <td>7.00</td>\n",
       "      <td>Marr.</td>\n",
       "      <td>32.05</td>\n",
       "      <td>Direct</td>\n",
       "      <td>Non Promoted</td>\n",
       "      <td>Yes</td>\n",
       "      <td>Stay</td>\n",
       "      <td>1</td>\n",
       "      <td>Marr.</td>\n",
       "      <td>0</td>\n",
       "    </tr>\n",
       "  </tbody>\n",
       "</table>\n",
       "</div>"
      ],
      "text/plain": [
       "   table id name  phone number   Location Emp. Group   Function Gender   \\\n",
       "0         1  sid    9876544345       Pune         B2  Operation    Male   \n",
       "1         2  sid    9876544345      Noida         B7    Support    Male   \n",
       "2         3  sid    9876544345  Bangalore         B3  Operation    Male   \n",
       "3         4  sid    9876544345      Noida         B2  Operation    Male   \n",
       "4         5  sid    9876544345    Lucknow         B2  Operation    Male   \n",
       "\n",
       "   Tenure Tenure Grp.  Experience (YY.MM) Marital Status  Age in YY.  \\\n",
       "0    0.00        < =1                6.08         Single       27.12   \n",
       "1    0.00        < =1               13.00          Marr.       38.08   \n",
       "2    0.01        < =1               16.05          Marr.       36.04   \n",
       "3    0.01        < =1                6.06          Marr.       32.07   \n",
       "4    0.00        < =1                7.00          Marr.       32.05   \n",
       "\n",
       "  Hiring Source Promoted/Non Promoted Job Role Match Stay/Left  New Location  \\\n",
       "0        Direct          Non Promoted            Yes      Left             3   \n",
       "1        Direct              Promoted             No      Stay             6   \n",
       "2        Direct              Promoted            Yes      Stay             5   \n",
       "3        Direct              Promoted            Yes      Stay             6   \n",
       "4        Direct          Non Promoted            Yes      Stay             1   \n",
       "\n",
       "  New Marital  New Promotion  \n",
       "0      Single              0  \n",
       "1       Marr.              1  \n",
       "2       Marr.              1  \n",
       "3       Marr.              1  \n",
       "4       Marr.              0  "
      ]
     },
     "execution_count": 62,
     "metadata": {},
     "output_type": "execute_result"
    }
   ],
   "source": [
    "def Promoted(x):\n",
    "    if x == 'Promoted':\n",
    "        return int(1)\n",
    "    else:\n",
    "        return int(0)\n",
    "\n",
    "data_l = data[\"Promoted/Non Promoted\"].apply(Promoted)\n",
    "data['New Promotion'] = data_l\n",
    "data.head()"
   ]
  },
  {
   "cell_type": "code",
   "execution_count": 63,
   "metadata": {},
   "outputs": [],
   "source": [
    "Emp_dict_new = {\n",
    "    'B1': 4,\n",
    "    'B2': 3,\n",
    "    'B3': 2,\n",
    "    'other group': 1,\n",
    "}"
   ]
  },
  {
   "cell_type": "code",
   "execution_count": 64,
   "metadata": {},
   "outputs": [
    {
     "data": {
      "text/html": [
       "<div>\n",
       "<style scoped>\n",
       "    .dataframe tbody tr th:only-of-type {\n",
       "        vertical-align: middle;\n",
       "    }\n",
       "\n",
       "    .dataframe tbody tr th {\n",
       "        vertical-align: top;\n",
       "    }\n",
       "\n",
       "    .dataframe thead th {\n",
       "        text-align: right;\n",
       "    }\n",
       "</style>\n",
       "<table border=\"1\" class=\"dataframe\">\n",
       "  <thead>\n",
       "    <tr style=\"text-align: right;\">\n",
       "      <th></th>\n",
       "      <th>table id</th>\n",
       "      <th>name</th>\n",
       "      <th>phone number</th>\n",
       "      <th>Location</th>\n",
       "      <th>Emp. Group</th>\n",
       "      <th>Function</th>\n",
       "      <th>Gender</th>\n",
       "      <th>Tenure</th>\n",
       "      <th>Tenure Grp.</th>\n",
       "      <th>Experience (YY.MM)</th>\n",
       "      <th>Marital Status</th>\n",
       "      <th>Age in YY.</th>\n",
       "      <th>Hiring Source</th>\n",
       "      <th>Promoted/Non Promoted</th>\n",
       "      <th>Job Role Match</th>\n",
       "      <th>Stay/Left</th>\n",
       "      <th>New Location</th>\n",
       "      <th>New Marital</th>\n",
       "      <th>New Promotion</th>\n",
       "      <th>New EMP</th>\n",
       "    </tr>\n",
       "  </thead>\n",
       "  <tbody>\n",
       "    <tr>\n",
       "      <th>0</th>\n",
       "      <td>1</td>\n",
       "      <td>sid</td>\n",
       "      <td>9876544345</td>\n",
       "      <td>Pune</td>\n",
       "      <td>B2</td>\n",
       "      <td>Operation</td>\n",
       "      <td>Male</td>\n",
       "      <td>0.00</td>\n",
       "      <td>&lt; =1</td>\n",
       "      <td>6.08</td>\n",
       "      <td>Single</td>\n",
       "      <td>27.12</td>\n",
       "      <td>Direct</td>\n",
       "      <td>Non Promoted</td>\n",
       "      <td>Yes</td>\n",
       "      <td>Left</td>\n",
       "      <td>3</td>\n",
       "      <td>Single</td>\n",
       "      <td>0</td>\n",
       "      <td>B2</td>\n",
       "    </tr>\n",
       "    <tr>\n",
       "      <th>1</th>\n",
       "      <td>2</td>\n",
       "      <td>sid</td>\n",
       "      <td>9876544345</td>\n",
       "      <td>Noida</td>\n",
       "      <td>B7</td>\n",
       "      <td>Support</td>\n",
       "      <td>Male</td>\n",
       "      <td>0.00</td>\n",
       "      <td>&lt; =1</td>\n",
       "      <td>13.00</td>\n",
       "      <td>Marr.</td>\n",
       "      <td>38.08</td>\n",
       "      <td>Direct</td>\n",
       "      <td>Promoted</td>\n",
       "      <td>No</td>\n",
       "      <td>Stay</td>\n",
       "      <td>6</td>\n",
       "      <td>Marr.</td>\n",
       "      <td>1</td>\n",
       "      <td>other group</td>\n",
       "    </tr>\n",
       "    <tr>\n",
       "      <th>2</th>\n",
       "      <td>3</td>\n",
       "      <td>sid</td>\n",
       "      <td>9876544345</td>\n",
       "      <td>Bangalore</td>\n",
       "      <td>B3</td>\n",
       "      <td>Operation</td>\n",
       "      <td>Male</td>\n",
       "      <td>0.01</td>\n",
       "      <td>&lt; =1</td>\n",
       "      <td>16.05</td>\n",
       "      <td>Marr.</td>\n",
       "      <td>36.04</td>\n",
       "      <td>Direct</td>\n",
       "      <td>Promoted</td>\n",
       "      <td>Yes</td>\n",
       "      <td>Stay</td>\n",
       "      <td>5</td>\n",
       "      <td>Marr.</td>\n",
       "      <td>1</td>\n",
       "      <td>B3</td>\n",
       "    </tr>\n",
       "    <tr>\n",
       "      <th>3</th>\n",
       "      <td>4</td>\n",
       "      <td>sid</td>\n",
       "      <td>9876544345</td>\n",
       "      <td>Noida</td>\n",
       "      <td>B2</td>\n",
       "      <td>Operation</td>\n",
       "      <td>Male</td>\n",
       "      <td>0.01</td>\n",
       "      <td>&lt; =1</td>\n",
       "      <td>6.06</td>\n",
       "      <td>Marr.</td>\n",
       "      <td>32.07</td>\n",
       "      <td>Direct</td>\n",
       "      <td>Promoted</td>\n",
       "      <td>Yes</td>\n",
       "      <td>Stay</td>\n",
       "      <td>6</td>\n",
       "      <td>Marr.</td>\n",
       "      <td>1</td>\n",
       "      <td>B2</td>\n",
       "    </tr>\n",
       "    <tr>\n",
       "      <th>4</th>\n",
       "      <td>5</td>\n",
       "      <td>sid</td>\n",
       "      <td>9876544345</td>\n",
       "      <td>Lucknow</td>\n",
       "      <td>B2</td>\n",
       "      <td>Operation</td>\n",
       "      <td>Male</td>\n",
       "      <td>0.00</td>\n",
       "      <td>&lt; =1</td>\n",
       "      <td>7.00</td>\n",
       "      <td>Marr.</td>\n",
       "      <td>32.05</td>\n",
       "      <td>Direct</td>\n",
       "      <td>Non Promoted</td>\n",
       "      <td>Yes</td>\n",
       "      <td>Stay</td>\n",
       "      <td>1</td>\n",
       "      <td>Marr.</td>\n",
       "      <td>0</td>\n",
       "      <td>B2</td>\n",
       "    </tr>\n",
       "  </tbody>\n",
       "</table>\n",
       "</div>"
      ],
      "text/plain": [
       "   table id name  phone number   Location Emp. Group   Function Gender   \\\n",
       "0         1  sid    9876544345       Pune         B2  Operation    Male   \n",
       "1         2  sid    9876544345      Noida         B7    Support    Male   \n",
       "2         3  sid    9876544345  Bangalore         B3  Operation    Male   \n",
       "3         4  sid    9876544345      Noida         B2  Operation    Male   \n",
       "4         5  sid    9876544345    Lucknow         B2  Operation    Male   \n",
       "\n",
       "   Tenure Tenure Grp.  Experience (YY.MM) Marital Status  Age in YY.  \\\n",
       "0    0.00        < =1                6.08         Single       27.12   \n",
       "1    0.00        < =1               13.00          Marr.       38.08   \n",
       "2    0.01        < =1               16.05          Marr.       36.04   \n",
       "3    0.01        < =1                6.06          Marr.       32.07   \n",
       "4    0.00        < =1                7.00          Marr.       32.05   \n",
       "\n",
       "  Hiring Source Promoted/Non Promoted Job Role Match Stay/Left  New Location  \\\n",
       "0        Direct          Non Promoted            Yes      Left             3   \n",
       "1        Direct              Promoted             No      Stay             6   \n",
       "2        Direct              Promoted            Yes      Stay             5   \n",
       "3        Direct              Promoted            Yes      Stay             6   \n",
       "4        Direct          Non Promoted            Yes      Stay             1   \n",
       "\n",
       "  New Marital  New Promotion      New EMP  \n",
       "0      Single              0           B2  \n",
       "1       Marr.              1  other group  \n",
       "2       Marr.              1           B3  \n",
       "3       Marr.              1           B2  \n",
       "4       Marr.              0           B2  "
      ]
     },
     "execution_count": 64,
     "metadata": {},
     "output_type": "execute_result"
    }
   ],
   "source": [
    "def emp(x):\n",
    "    if str(x) in Emp_dict_new.keys():\n",
    "        return str(x)\n",
    "    else:\n",
    "        return 'other group'\n",
    " \n",
    "data_l = data[\"Emp. Group\"].apply(emp)\n",
    "data['New EMP'] = data_l\n",
    "\n",
    "emp = pd.get_dummies(data[\"New EMP\"])\n",
    "data.head()"
   ]
  },
  {
   "cell_type": "code",
   "execution_count": 65,
   "metadata": {},
   "outputs": [
    {
     "data": {
      "text/html": [
       "<div>\n",
       "<style scoped>\n",
       "    .dataframe tbody tr th:only-of-type {\n",
       "        vertical-align: middle;\n",
       "    }\n",
       "\n",
       "    .dataframe tbody tr th {\n",
       "        vertical-align: top;\n",
       "    }\n",
       "\n",
       "    .dataframe thead th {\n",
       "        text-align: right;\n",
       "    }\n",
       "</style>\n",
       "<table border=\"1\" class=\"dataframe\">\n",
       "  <thead>\n",
       "    <tr style=\"text-align: right;\">\n",
       "      <th></th>\n",
       "      <th>table id</th>\n",
       "      <th>name</th>\n",
       "      <th>phone number</th>\n",
       "      <th>Location</th>\n",
       "      <th>Emp. Group</th>\n",
       "      <th>Function</th>\n",
       "      <th>Gender</th>\n",
       "      <th>Tenure</th>\n",
       "      <th>Tenure Grp.</th>\n",
       "      <th>Experience (YY.MM)</th>\n",
       "      <th>...</th>\n",
       "      <th>Age in YY.</th>\n",
       "      <th>Hiring Source</th>\n",
       "      <th>Promoted/Non Promoted</th>\n",
       "      <th>Job Role Match</th>\n",
       "      <th>Stay/Left</th>\n",
       "      <th>New Location</th>\n",
       "      <th>New Marital</th>\n",
       "      <th>New Promotion</th>\n",
       "      <th>New EMP</th>\n",
       "      <th>New Job Role Match</th>\n",
       "    </tr>\n",
       "  </thead>\n",
       "  <tbody>\n",
       "    <tr>\n",
       "      <th>0</th>\n",
       "      <td>1</td>\n",
       "      <td>sid</td>\n",
       "      <td>9876544345</td>\n",
       "      <td>Pune</td>\n",
       "      <td>B2</td>\n",
       "      <td>Operation</td>\n",
       "      <td>Male</td>\n",
       "      <td>0.00</td>\n",
       "      <td>&lt; =1</td>\n",
       "      <td>6.08</td>\n",
       "      <td>...</td>\n",
       "      <td>27.12</td>\n",
       "      <td>Direct</td>\n",
       "      <td>Non Promoted</td>\n",
       "      <td>Yes</td>\n",
       "      <td>Left</td>\n",
       "      <td>3</td>\n",
       "      <td>Single</td>\n",
       "      <td>0</td>\n",
       "      <td>B2</td>\n",
       "      <td>1</td>\n",
       "    </tr>\n",
       "    <tr>\n",
       "      <th>1</th>\n",
       "      <td>2</td>\n",
       "      <td>sid</td>\n",
       "      <td>9876544345</td>\n",
       "      <td>Noida</td>\n",
       "      <td>B7</td>\n",
       "      <td>Support</td>\n",
       "      <td>Male</td>\n",
       "      <td>0.00</td>\n",
       "      <td>&lt; =1</td>\n",
       "      <td>13.00</td>\n",
       "      <td>...</td>\n",
       "      <td>38.08</td>\n",
       "      <td>Direct</td>\n",
       "      <td>Promoted</td>\n",
       "      <td>No</td>\n",
       "      <td>Stay</td>\n",
       "      <td>6</td>\n",
       "      <td>Marr.</td>\n",
       "      <td>1</td>\n",
       "      <td>other group</td>\n",
       "      <td>0</td>\n",
       "    </tr>\n",
       "    <tr>\n",
       "      <th>2</th>\n",
       "      <td>3</td>\n",
       "      <td>sid</td>\n",
       "      <td>9876544345</td>\n",
       "      <td>Bangalore</td>\n",
       "      <td>B3</td>\n",
       "      <td>Operation</td>\n",
       "      <td>Male</td>\n",
       "      <td>0.01</td>\n",
       "      <td>&lt; =1</td>\n",
       "      <td>16.05</td>\n",
       "      <td>...</td>\n",
       "      <td>36.04</td>\n",
       "      <td>Direct</td>\n",
       "      <td>Promoted</td>\n",
       "      <td>Yes</td>\n",
       "      <td>Stay</td>\n",
       "      <td>5</td>\n",
       "      <td>Marr.</td>\n",
       "      <td>1</td>\n",
       "      <td>B3</td>\n",
       "      <td>1</td>\n",
       "    </tr>\n",
       "    <tr>\n",
       "      <th>3</th>\n",
       "      <td>4</td>\n",
       "      <td>sid</td>\n",
       "      <td>9876544345</td>\n",
       "      <td>Noida</td>\n",
       "      <td>B2</td>\n",
       "      <td>Operation</td>\n",
       "      <td>Male</td>\n",
       "      <td>0.01</td>\n",
       "      <td>&lt; =1</td>\n",
       "      <td>6.06</td>\n",
       "      <td>...</td>\n",
       "      <td>32.07</td>\n",
       "      <td>Direct</td>\n",
       "      <td>Promoted</td>\n",
       "      <td>Yes</td>\n",
       "      <td>Stay</td>\n",
       "      <td>6</td>\n",
       "      <td>Marr.</td>\n",
       "      <td>1</td>\n",
       "      <td>B2</td>\n",
       "      <td>1</td>\n",
       "    </tr>\n",
       "    <tr>\n",
       "      <th>4</th>\n",
       "      <td>5</td>\n",
       "      <td>sid</td>\n",
       "      <td>9876544345</td>\n",
       "      <td>Lucknow</td>\n",
       "      <td>B2</td>\n",
       "      <td>Operation</td>\n",
       "      <td>Male</td>\n",
       "      <td>0.00</td>\n",
       "      <td>&lt; =1</td>\n",
       "      <td>7.00</td>\n",
       "      <td>...</td>\n",
       "      <td>32.05</td>\n",
       "      <td>Direct</td>\n",
       "      <td>Non Promoted</td>\n",
       "      <td>Yes</td>\n",
       "      <td>Stay</td>\n",
       "      <td>1</td>\n",
       "      <td>Marr.</td>\n",
       "      <td>0</td>\n",
       "      <td>B2</td>\n",
       "      <td>1</td>\n",
       "    </tr>\n",
       "  </tbody>\n",
       "</table>\n",
       "<p>5 rows × 21 columns</p>\n",
       "</div>"
      ],
      "text/plain": [
       "   table id name  phone number   Location Emp. Group   Function Gender   \\\n",
       "0         1  sid    9876544345       Pune         B2  Operation    Male   \n",
       "1         2  sid    9876544345      Noida         B7    Support    Male   \n",
       "2         3  sid    9876544345  Bangalore         B3  Operation    Male   \n",
       "3         4  sid    9876544345      Noida         B2  Operation    Male   \n",
       "4         5  sid    9876544345    Lucknow         B2  Operation    Male   \n",
       "\n",
       "   Tenure Tenure Grp.  Experience (YY.MM)  ... Age in YY.  Hiring Source  \\\n",
       "0    0.00        < =1                6.08  ...      27.12         Direct   \n",
       "1    0.00        < =1               13.00  ...      38.08         Direct   \n",
       "2    0.01        < =1               16.05  ...      36.04         Direct   \n",
       "3    0.01        < =1                6.06  ...      32.07         Direct   \n",
       "4    0.00        < =1                7.00  ...      32.05         Direct   \n",
       "\n",
       "  Promoted/Non Promoted Job Role Match Stay/Left New Location  New Marital  \\\n",
       "0          Non Promoted            Yes      Left            3       Single   \n",
       "1              Promoted             No      Stay            6        Marr.   \n",
       "2              Promoted            Yes      Stay            5        Marr.   \n",
       "3              Promoted            Yes      Stay            6        Marr.   \n",
       "4          Non Promoted            Yes      Stay            1        Marr.   \n",
       "\n",
       "  New Promotion      New EMP New Job Role Match  \n",
       "0             0           B2                  1  \n",
       "1             1  other group                  0  \n",
       "2             1           B3                  1  \n",
       "3             1           B2                  1  \n",
       "4             0           B2                  1  \n",
       "\n",
       "[5 rows x 21 columns]"
      ]
     },
     "execution_count": 65,
     "metadata": {},
     "output_type": "execute_result"
    }
   ],
   "source": [
    "def Job(x):\n",
    "    if x == 'Yes':\n",
    "        return int(1)\n",
    "    else:\n",
    "        return int(0)\n",
    "    \n",
    "data_l = data[\"Job Role Match\"].apply(Job)\n",
    "data['New Job Role Match'] = data_l\n",
    "data.head()"
   ]
  },
  {
   "cell_type": "code",
   "execution_count": 67,
   "metadata": {},
   "outputs": [],
   "source": [
    "gender_dict = data[\"Gender \"].value_counts()"
   ]
  },
  {
   "cell_type": "code",
   "execution_count": 68,
   "metadata": {},
   "outputs": [
    {
     "data": {
      "text/html": [
       "<div>\n",
       "<style scoped>\n",
       "    .dataframe tbody tr th:only-of-type {\n",
       "        vertical-align: middle;\n",
       "    }\n",
       "\n",
       "    .dataframe tbody tr th {\n",
       "        vertical-align: top;\n",
       "    }\n",
       "\n",
       "    .dataframe thead th {\n",
       "        text-align: right;\n",
       "    }\n",
       "</style>\n",
       "<table border=\"1\" class=\"dataframe\">\n",
       "  <thead>\n",
       "    <tr style=\"text-align: right;\">\n",
       "      <th></th>\n",
       "      <th>table id</th>\n",
       "      <th>name</th>\n",
       "      <th>phone number</th>\n",
       "      <th>Location</th>\n",
       "      <th>Emp. Group</th>\n",
       "      <th>Function</th>\n",
       "      <th>Gender</th>\n",
       "      <th>Tenure</th>\n",
       "      <th>Tenure Grp.</th>\n",
       "      <th>Experience (YY.MM)</th>\n",
       "      <th>...</th>\n",
       "      <th>Hiring Source</th>\n",
       "      <th>Promoted/Non Promoted</th>\n",
       "      <th>Job Role Match</th>\n",
       "      <th>Stay/Left</th>\n",
       "      <th>New Location</th>\n",
       "      <th>New Marital</th>\n",
       "      <th>New Promotion</th>\n",
       "      <th>New EMP</th>\n",
       "      <th>New Job Role Match</th>\n",
       "      <th>New Gender</th>\n",
       "    </tr>\n",
       "  </thead>\n",
       "  <tbody>\n",
       "    <tr>\n",
       "      <th>0</th>\n",
       "      <td>1</td>\n",
       "      <td>sid</td>\n",
       "      <td>9876544345</td>\n",
       "      <td>Pune</td>\n",
       "      <td>B2</td>\n",
       "      <td>Operation</td>\n",
       "      <td>Male</td>\n",
       "      <td>0.00</td>\n",
       "      <td>&lt; =1</td>\n",
       "      <td>6.08</td>\n",
       "      <td>...</td>\n",
       "      <td>Direct</td>\n",
       "      <td>Non Promoted</td>\n",
       "      <td>Yes</td>\n",
       "      <td>Left</td>\n",
       "      <td>3</td>\n",
       "      <td>Single</td>\n",
       "      <td>0</td>\n",
       "      <td>B2</td>\n",
       "      <td>1</td>\n",
       "      <td>Male</td>\n",
       "    </tr>\n",
       "    <tr>\n",
       "      <th>1</th>\n",
       "      <td>2</td>\n",
       "      <td>sid</td>\n",
       "      <td>9876544345</td>\n",
       "      <td>Noida</td>\n",
       "      <td>B7</td>\n",
       "      <td>Support</td>\n",
       "      <td>Male</td>\n",
       "      <td>0.00</td>\n",
       "      <td>&lt; =1</td>\n",
       "      <td>13.00</td>\n",
       "      <td>...</td>\n",
       "      <td>Direct</td>\n",
       "      <td>Promoted</td>\n",
       "      <td>No</td>\n",
       "      <td>Stay</td>\n",
       "      <td>6</td>\n",
       "      <td>Marr.</td>\n",
       "      <td>1</td>\n",
       "      <td>other group</td>\n",
       "      <td>0</td>\n",
       "      <td>Male</td>\n",
       "    </tr>\n",
       "    <tr>\n",
       "      <th>2</th>\n",
       "      <td>3</td>\n",
       "      <td>sid</td>\n",
       "      <td>9876544345</td>\n",
       "      <td>Bangalore</td>\n",
       "      <td>B3</td>\n",
       "      <td>Operation</td>\n",
       "      <td>Male</td>\n",
       "      <td>0.01</td>\n",
       "      <td>&lt; =1</td>\n",
       "      <td>16.05</td>\n",
       "      <td>...</td>\n",
       "      <td>Direct</td>\n",
       "      <td>Promoted</td>\n",
       "      <td>Yes</td>\n",
       "      <td>Stay</td>\n",
       "      <td>5</td>\n",
       "      <td>Marr.</td>\n",
       "      <td>1</td>\n",
       "      <td>B3</td>\n",
       "      <td>1</td>\n",
       "      <td>Male</td>\n",
       "    </tr>\n",
       "    <tr>\n",
       "      <th>3</th>\n",
       "      <td>4</td>\n",
       "      <td>sid</td>\n",
       "      <td>9876544345</td>\n",
       "      <td>Noida</td>\n",
       "      <td>B2</td>\n",
       "      <td>Operation</td>\n",
       "      <td>Male</td>\n",
       "      <td>0.01</td>\n",
       "      <td>&lt; =1</td>\n",
       "      <td>6.06</td>\n",
       "      <td>...</td>\n",
       "      <td>Direct</td>\n",
       "      <td>Promoted</td>\n",
       "      <td>Yes</td>\n",
       "      <td>Stay</td>\n",
       "      <td>6</td>\n",
       "      <td>Marr.</td>\n",
       "      <td>1</td>\n",
       "      <td>B2</td>\n",
       "      <td>1</td>\n",
       "      <td>Male</td>\n",
       "    </tr>\n",
       "    <tr>\n",
       "      <th>4</th>\n",
       "      <td>5</td>\n",
       "      <td>sid</td>\n",
       "      <td>9876544345</td>\n",
       "      <td>Lucknow</td>\n",
       "      <td>B2</td>\n",
       "      <td>Operation</td>\n",
       "      <td>Male</td>\n",
       "      <td>0.00</td>\n",
       "      <td>&lt; =1</td>\n",
       "      <td>7.00</td>\n",
       "      <td>...</td>\n",
       "      <td>Direct</td>\n",
       "      <td>Non Promoted</td>\n",
       "      <td>Yes</td>\n",
       "      <td>Stay</td>\n",
       "      <td>1</td>\n",
       "      <td>Marr.</td>\n",
       "      <td>0</td>\n",
       "      <td>B2</td>\n",
       "      <td>1</td>\n",
       "      <td>Male</td>\n",
       "    </tr>\n",
       "  </tbody>\n",
       "</table>\n",
       "<p>5 rows × 22 columns</p>\n",
       "</div>"
      ],
      "text/plain": [
       "   table id name  phone number   Location Emp. Group   Function Gender   \\\n",
       "0         1  sid    9876544345       Pune         B2  Operation    Male   \n",
       "1         2  sid    9876544345      Noida         B7    Support    Male   \n",
       "2         3  sid    9876544345  Bangalore         B3  Operation    Male   \n",
       "3         4  sid    9876544345      Noida         B2  Operation    Male   \n",
       "4         5  sid    9876544345    Lucknow         B2  Operation    Male   \n",
       "\n",
       "   Tenure Tenure Grp.  Experience (YY.MM)  ... Hiring Source  \\\n",
       "0    0.00        < =1                6.08  ...        Direct   \n",
       "1    0.00        < =1               13.00  ...        Direct   \n",
       "2    0.01        < =1               16.05  ...        Direct   \n",
       "3    0.01        < =1                6.06  ...        Direct   \n",
       "4    0.00        < =1                7.00  ...        Direct   \n",
       "\n",
       "   Promoted/Non Promoted Job Role Match Stay/Left New Location New Marital  \\\n",
       "0           Non Promoted            Yes      Left            3      Single   \n",
       "1               Promoted             No      Stay            6       Marr.   \n",
       "2               Promoted            Yes      Stay            5       Marr.   \n",
       "3               Promoted            Yes      Stay            6       Marr.   \n",
       "4           Non Promoted            Yes      Stay            1       Marr.   \n",
       "\n",
       "   New Promotion      New EMP  New Job Role Match New Gender  \n",
       "0              0           B2                   1       Male  \n",
       "1              1  other group                   0       Male  \n",
       "2              1           B3                   1       Male  \n",
       "3              1           B2                   1       Male  \n",
       "4              0           B2                   1       Male  \n",
       "\n",
       "[5 rows x 22 columns]"
      ]
     },
     "execution_count": 68,
     "metadata": {},
     "output_type": "execute_result"
    }
   ],
   "source": [
    "def Gen(x):\n",
    "    if x in gender_dict.keys():\n",
    "        return str(x)\n",
    "    else:\n",
    "        return 'other'\n",
    "\n",
    "data_l = data[\"Gender \"].apply(Gen)\n",
    "data['New Gender'] = data_l\n",
    "data.head()"
   ]
  },
  {
   "cell_type": "code",
   "execution_count": 69,
   "metadata": {},
   "outputs": [
    {
     "data": {
      "text/html": [
       "<div>\n",
       "<style scoped>\n",
       "    .dataframe tbody tr th:only-of-type {\n",
       "        vertical-align: middle;\n",
       "    }\n",
       "\n",
       "    .dataframe tbody tr th {\n",
       "        vertical-align: top;\n",
       "    }\n",
       "\n",
       "    .dataframe thead th {\n",
       "        text-align: right;\n",
       "    }\n",
       "</style>\n",
       "<table border=\"1\" class=\"dataframe\">\n",
       "  <thead>\n",
       "    <tr style=\"text-align: right;\">\n",
       "      <th></th>\n",
       "      <th>Female</th>\n",
       "      <th>Male</th>\n",
       "      <th>other</th>\n",
       "    </tr>\n",
       "  </thead>\n",
       "  <tbody>\n",
       "    <tr>\n",
       "      <th>0</th>\n",
       "      <td>0</td>\n",
       "      <td>1</td>\n",
       "      <td>0</td>\n",
       "    </tr>\n",
       "    <tr>\n",
       "      <th>1</th>\n",
       "      <td>0</td>\n",
       "      <td>1</td>\n",
       "      <td>0</td>\n",
       "    </tr>\n",
       "    <tr>\n",
       "      <th>2</th>\n",
       "      <td>0</td>\n",
       "      <td>1</td>\n",
       "      <td>0</td>\n",
       "    </tr>\n",
       "    <tr>\n",
       "      <th>3</th>\n",
       "      <td>0</td>\n",
       "      <td>1</td>\n",
       "      <td>0</td>\n",
       "    </tr>\n",
       "    <tr>\n",
       "      <th>4</th>\n",
       "      <td>0</td>\n",
       "      <td>1</td>\n",
       "      <td>0</td>\n",
       "    </tr>\n",
       "  </tbody>\n",
       "</table>\n",
       "</div>"
      ],
      "text/plain": [
       "   Female  Male  other\n",
       "0       0     1      0\n",
       "1       0     1      0\n",
       "2       0     1      0\n",
       "3       0     1      0\n",
       "4       0     1      0"
      ]
     },
     "execution_count": 69,
     "metadata": {},
     "output_type": "execute_result"
    }
   ],
   "source": [
    "gend = pd.get_dummies(data[\"New Gender\"])\n",
    "gend.head()"
   ]
  },
  {
   "cell_type": "code",
   "execution_count": 70,
   "metadata": {},
   "outputs": [
    {
     "data": {
      "text/html": [
       "<div>\n",
       "<style scoped>\n",
       "    .dataframe tbody tr th:only-of-type {\n",
       "        vertical-align: middle;\n",
       "    }\n",
       "\n",
       "    .dataframe tbody tr th {\n",
       "        vertical-align: top;\n",
       "    }\n",
       "\n",
       "    .dataframe thead th {\n",
       "        text-align: right;\n",
       "    }\n",
       "</style>\n",
       "<table border=\"1\" class=\"dataframe\">\n",
       "  <thead>\n",
       "    <tr style=\"text-align: right;\">\n",
       "      <th></th>\n",
       "      <th>&lt; =1</th>\n",
       "      <th>&gt; 1 &amp; &lt; =3</th>\n",
       "    </tr>\n",
       "  </thead>\n",
       "  <tbody>\n",
       "    <tr>\n",
       "      <th>0</th>\n",
       "      <td>1</td>\n",
       "      <td>0</td>\n",
       "    </tr>\n",
       "    <tr>\n",
       "      <th>1</th>\n",
       "      <td>1</td>\n",
       "      <td>0</td>\n",
       "    </tr>\n",
       "    <tr>\n",
       "      <th>2</th>\n",
       "      <td>1</td>\n",
       "      <td>0</td>\n",
       "    </tr>\n",
       "    <tr>\n",
       "      <th>3</th>\n",
       "      <td>1</td>\n",
       "      <td>0</td>\n",
       "    </tr>\n",
       "    <tr>\n",
       "      <th>4</th>\n",
       "      <td>1</td>\n",
       "      <td>0</td>\n",
       "    </tr>\n",
       "  </tbody>\n",
       "</table>\n",
       "</div>"
      ],
      "text/plain": [
       "   < =1  > 1 & < =3\n",
       "0     1           0\n",
       "1     1           0\n",
       "2     1           0\n",
       "3     1           0\n",
       "4     1           0"
      ]
     },
     "execution_count": 70,
     "metadata": {},
     "output_type": "execute_result"
    }
   ],
   "source": [
    "tengrp = pd.get_dummies(data[\"Tenure Grp.\"])\n",
    "tengrp.head()"
   ]
  },
  {
   "cell_type": "code",
   "execution_count": 71,
   "metadata": {},
   "outputs": [
    {
     "data": {
      "text/html": [
       "<div>\n",
       "<style scoped>\n",
       "    .dataframe tbody tr th:only-of-type {\n",
       "        vertical-align: middle;\n",
       "    }\n",
       "\n",
       "    .dataframe tbody tr th {\n",
       "        vertical-align: top;\n",
       "    }\n",
       "\n",
       "    .dataframe thead th {\n",
       "        text-align: right;\n",
       "    }\n",
       "</style>\n",
       "<table border=\"1\" class=\"dataframe\">\n",
       "  <thead>\n",
       "    <tr style=\"text-align: right;\">\n",
       "      <th></th>\n",
       "      <th>table id</th>\n",
       "      <th>name</th>\n",
       "      <th>phone number</th>\n",
       "      <th>Location</th>\n",
       "      <th>Emp. Group</th>\n",
       "      <th>Function</th>\n",
       "      <th>Gender</th>\n",
       "      <th>Tenure</th>\n",
       "      <th>Tenure Grp.</th>\n",
       "      <th>Experience (YY.MM)</th>\n",
       "      <th>...</th>\n",
       "      <th>B3</th>\n",
       "      <th>other group</th>\n",
       "      <th>&lt; =1</th>\n",
       "      <th>&gt; 1 &amp; &lt; =3</th>\n",
       "      <th>Operation</th>\n",
       "      <th>Sales</th>\n",
       "      <th>Support</th>\n",
       "      <th>Female</th>\n",
       "      <th>Male</th>\n",
       "      <th>other</th>\n",
       "    </tr>\n",
       "  </thead>\n",
       "  <tbody>\n",
       "    <tr>\n",
       "      <th>0</th>\n",
       "      <td>1</td>\n",
       "      <td>sid</td>\n",
       "      <td>9876544345</td>\n",
       "      <td>Pune</td>\n",
       "      <td>B2</td>\n",
       "      <td>Operation</td>\n",
       "      <td>Male</td>\n",
       "      <td>0.00</td>\n",
       "      <td>&lt; =1</td>\n",
       "      <td>6.08</td>\n",
       "      <td>...</td>\n",
       "      <td>0</td>\n",
       "      <td>0</td>\n",
       "      <td>1</td>\n",
       "      <td>0</td>\n",
       "      <td>1</td>\n",
       "      <td>0</td>\n",
       "      <td>0</td>\n",
       "      <td>0</td>\n",
       "      <td>1</td>\n",
       "      <td>0</td>\n",
       "    </tr>\n",
       "    <tr>\n",
       "      <th>1</th>\n",
       "      <td>2</td>\n",
       "      <td>sid</td>\n",
       "      <td>9876544345</td>\n",
       "      <td>Noida</td>\n",
       "      <td>B7</td>\n",
       "      <td>Support</td>\n",
       "      <td>Male</td>\n",
       "      <td>0.00</td>\n",
       "      <td>&lt; =1</td>\n",
       "      <td>13.00</td>\n",
       "      <td>...</td>\n",
       "      <td>0</td>\n",
       "      <td>1</td>\n",
       "      <td>1</td>\n",
       "      <td>0</td>\n",
       "      <td>0</td>\n",
       "      <td>0</td>\n",
       "      <td>1</td>\n",
       "      <td>0</td>\n",
       "      <td>1</td>\n",
       "      <td>0</td>\n",
       "    </tr>\n",
       "    <tr>\n",
       "      <th>2</th>\n",
       "      <td>3</td>\n",
       "      <td>sid</td>\n",
       "      <td>9876544345</td>\n",
       "      <td>Bangalore</td>\n",
       "      <td>B3</td>\n",
       "      <td>Operation</td>\n",
       "      <td>Male</td>\n",
       "      <td>0.01</td>\n",
       "      <td>&lt; =1</td>\n",
       "      <td>16.05</td>\n",
       "      <td>...</td>\n",
       "      <td>1</td>\n",
       "      <td>0</td>\n",
       "      <td>1</td>\n",
       "      <td>0</td>\n",
       "      <td>1</td>\n",
       "      <td>0</td>\n",
       "      <td>0</td>\n",
       "      <td>0</td>\n",
       "      <td>1</td>\n",
       "      <td>0</td>\n",
       "    </tr>\n",
       "    <tr>\n",
       "      <th>3</th>\n",
       "      <td>4</td>\n",
       "      <td>sid</td>\n",
       "      <td>9876544345</td>\n",
       "      <td>Noida</td>\n",
       "      <td>B2</td>\n",
       "      <td>Operation</td>\n",
       "      <td>Male</td>\n",
       "      <td>0.01</td>\n",
       "      <td>&lt; =1</td>\n",
       "      <td>6.06</td>\n",
       "      <td>...</td>\n",
       "      <td>0</td>\n",
       "      <td>0</td>\n",
       "      <td>1</td>\n",
       "      <td>0</td>\n",
       "      <td>1</td>\n",
       "      <td>0</td>\n",
       "      <td>0</td>\n",
       "      <td>0</td>\n",
       "      <td>1</td>\n",
       "      <td>0</td>\n",
       "    </tr>\n",
       "    <tr>\n",
       "      <th>4</th>\n",
       "      <td>5</td>\n",
       "      <td>sid</td>\n",
       "      <td>9876544345</td>\n",
       "      <td>Lucknow</td>\n",
       "      <td>B2</td>\n",
       "      <td>Operation</td>\n",
       "      <td>Male</td>\n",
       "      <td>0.00</td>\n",
       "      <td>&lt; =1</td>\n",
       "      <td>7.00</td>\n",
       "      <td>...</td>\n",
       "      <td>0</td>\n",
       "      <td>0</td>\n",
       "      <td>1</td>\n",
       "      <td>0</td>\n",
       "      <td>1</td>\n",
       "      <td>0</td>\n",
       "      <td>0</td>\n",
       "      <td>0</td>\n",
       "      <td>1</td>\n",
       "      <td>0</td>\n",
       "    </tr>\n",
       "  </tbody>\n",
       "</table>\n",
       "<p>5 rows × 40 columns</p>\n",
       "</div>"
      ],
      "text/plain": [
       "   table id name  phone number   Location Emp. Group   Function Gender   \\\n",
       "0         1  sid    9876544345       Pune         B2  Operation    Male   \n",
       "1         2  sid    9876544345      Noida         B7    Support    Male   \n",
       "2         3  sid    9876544345  Bangalore         B3  Operation    Male   \n",
       "3         4  sid    9876544345      Noida         B2  Operation    Male   \n",
       "4         5  sid    9876544345    Lucknow         B2  Operation    Male   \n",
       "\n",
       "   Tenure Tenure Grp.  Experience (YY.MM)  ... B3  other group < =1  \\\n",
       "0    0.00        < =1                6.08  ...  0            0    1   \n",
       "1    0.00        < =1               13.00  ...  0            1    1   \n",
       "2    0.01        < =1               16.05  ...  1            0    1   \n",
       "3    0.01        < =1                6.06  ...  0            0    1   \n",
       "4    0.00        < =1                7.00  ...  0            0    1   \n",
       "\n",
       "  > 1 & < =3 Operation Sales  Support Female  Male other  \n",
       "0          0         1     0        0      0     1     0  \n",
       "1          0         0     0        1      0     1     0  \n",
       "2          0         1     0        0      0     1     0  \n",
       "3          0         1     0        0      0     1     0  \n",
       "4          0         1     0        0      0     1     0  \n",
       "\n",
       "[5 rows x 40 columns]"
      ]
     },
     "execution_count": 71,
     "metadata": {},
     "output_type": "execute_result"
    }
   ],
   "source": [
    "dataset = pd.concat([data, hr, Mr, emp, tengrp, gen, gend], axis = 1)\n",
    "dataset.head()"
   ]
  },
  {
   "cell_type": "code",
   "execution_count": 72,
   "metadata": {},
   "outputs": [
    {
     "data": {
      "text/plain": [
       "Index(['Experience (YY.MM)', 'Age in YY.', 'Stay/Left', 'New Location',\n",
       "       'New Promotion', 'New Job Role Match', 'Agency', 'Direct',\n",
       "       'Employee Referral', 'Marr.', 'Single', 'other status', 'B1', 'B2',\n",
       "       'B3', 'other group', '< =1', '> 1 & < =3', 'Operation', 'Sales',\n",
       "       'Support', 'Female', 'Male', 'other'],\n",
       "      dtype='object')"
      ]
     },
     "execution_count": 72,
     "metadata": {},
     "output_type": "execute_result"
    }
   ],
   "source": [
    "dataset.drop([\"table id\", \"name\", \"Marital Status\",\"Promoted/Non Promoted\",\"Function\",\"Emp. Group\",\"Job Role Match\",\"Location\"\n",
    "              ,\"Hiring Source\",\"Gender \", 'Tenure', 'New Gender', 'New Marital', 'New EMP'],axis=1,inplace=True)\n",
    "\n",
    "dataset1 = dataset.drop(['Tenure Grp.', 'phone number'], axis = 1)\n",
    "dataset1.columns"
   ]
  },
  {
   "cell_type": "code",
   "execution_count": 73,
   "metadata": {},
   "outputs": [
    {
     "data": {
      "image/png": "[encoded data removed]",
      "text/plain": [
       "<Figure size 1080x720 with 2 Axes>"
      ]
     },
     "metadata": {
      "needs_background": "light"
     },
     "output_type": "display_data"
    }
   ],
   "source": [
    "corr_matrix=dataset1.corr()\n",
    "fig,ax=plt.subplots(figsize=(15,10))\n",
    "ax=sns.heatmap(corr_matrix,\n",
    "               annot=True,\n",
    "               linewidths=0.5,\n",
    "               fmt=\".2f\"\n",
    "              )"
   ]
  },
  {
   "cell_type": "code",
   "execution_count": 74,
   "metadata": {},
   "outputs": [],
   "source": [
    "dataset1.to_csv(\"cleaned_employee_attire.csv\")"
   ]
  },
  {
   "cell_type": "code",
   "execution_count": 80,
   "metadata": {},
   "outputs": [],
   "source": [
    "dataset = pd.read_csv(\"cleaned_employee_attire.csv\")\n",
    "dataset = pd.DataFrame(dataset)"
   ]
  },
  {
   "cell_type": "code",
   "execution_count": 81,
   "metadata": {},
   "outputs": [
    {
     "data": {
      "text/html": [
       "<div>\n",
       "<style scoped>\n",
       "    .dataframe tbody tr th:only-of-type {\n",
       "        vertical-align: middle;\n",
       "    }\n",
       "\n",
       "    .dataframe tbody tr th {\n",
       "        vertical-align: top;\n",
       "    }\n",
       "\n",
       "    .dataframe thead th {\n",
       "        text-align: right;\n",
       "    }\n",
       "</style>\n",
       "<table border=\"1\" class=\"dataframe\">\n",
       "  <thead>\n",
       "    <tr style=\"text-align: right;\">\n",
       "      <th></th>\n",
       "      <th>Unnamed: 0</th>\n",
       "      <th>Experience (YY.MM)</th>\n",
       "      <th>Age in YY.</th>\n",
       "      <th>Stay/Left</th>\n",
       "      <th>New Location</th>\n",
       "      <th>New Promotion</th>\n",
       "      <th>New Job Role Match</th>\n",
       "      <th>Agency</th>\n",
       "      <th>Direct</th>\n",
       "      <th>Employee Referral</th>\n",
       "      <th>...</th>\n",
       "      <th>B3</th>\n",
       "      <th>other group</th>\n",
       "      <th>&lt; =1</th>\n",
       "      <th>&gt; 1 &amp; &lt; =3</th>\n",
       "      <th>Operation</th>\n",
       "      <th>Sales</th>\n",
       "      <th>Support</th>\n",
       "      <th>Female</th>\n",
       "      <th>Male</th>\n",
       "      <th>other</th>\n",
       "    </tr>\n",
       "  </thead>\n",
       "  <tbody>\n",
       "    <tr>\n",
       "      <th>0</th>\n",
       "      <td>0</td>\n",
       "      <td>6.08</td>\n",
       "      <td>27.12</td>\n",
       "      <td>Left</td>\n",
       "      <td>3</td>\n",
       "      <td>0</td>\n",
       "      <td>1</td>\n",
       "      <td>0</td>\n",
       "      <td>1</td>\n",
       "      <td>0</td>\n",
       "      <td>...</td>\n",
       "      <td>0</td>\n",
       "      <td>0</td>\n",
       "      <td>1</td>\n",
       "      <td>0</td>\n",
       "      <td>1</td>\n",
       "      <td>0</td>\n",
       "      <td>0</td>\n",
       "      <td>0</td>\n",
       "      <td>1</td>\n",
       "      <td>0</td>\n",
       "    </tr>\n",
       "    <tr>\n",
       "      <th>1</th>\n",
       "      <td>1</td>\n",
       "      <td>13.00</td>\n",
       "      <td>38.08</td>\n",
       "      <td>Stay</td>\n",
       "      <td>6</td>\n",
       "      <td>1</td>\n",
       "      <td>0</td>\n",
       "      <td>0</td>\n",
       "      <td>1</td>\n",
       "      <td>0</td>\n",
       "      <td>...</td>\n",
       "      <td>0</td>\n",
       "      <td>1</td>\n",
       "      <td>1</td>\n",
       "      <td>0</td>\n",
       "      <td>0</td>\n",
       "      <td>0</td>\n",
       "      <td>1</td>\n",
       "      <td>0</td>\n",
       "      <td>1</td>\n",
       "      <td>0</td>\n",
       "    </tr>\n",
       "    <tr>\n",
       "      <th>2</th>\n",
       "      <td>2</td>\n",
       "      <td>16.05</td>\n",
       "      <td>36.04</td>\n",
       "      <td>Stay</td>\n",
       "      <td>5</td>\n",
       "      <td>1</td>\n",
       "      <td>1</td>\n",
       "      <td>0</td>\n",
       "      <td>1</td>\n",
       "      <td>0</td>\n",
       "      <td>...</td>\n",
       "      <td>1</td>\n",
       "      <td>0</td>\n",
       "      <td>1</td>\n",
       "      <td>0</td>\n",
       "      <td>1</td>\n",
       "      <td>0</td>\n",
       "      <td>0</td>\n",
       "      <td>0</td>\n",
       "      <td>1</td>\n",
       "      <td>0</td>\n",
       "    </tr>\n",
       "    <tr>\n",
       "      <th>3</th>\n",
       "      <td>3</td>\n",
       "      <td>6.06</td>\n",
       "      <td>32.07</td>\n",
       "      <td>Stay</td>\n",
       "      <td>6</td>\n",
       "      <td>1</td>\n",
       "      <td>1</td>\n",
       "      <td>0</td>\n",
       "      <td>1</td>\n",
       "      <td>0</td>\n",
       "      <td>...</td>\n",
       "      <td>0</td>\n",
       "      <td>0</td>\n",
       "      <td>1</td>\n",
       "      <td>0</td>\n",
       "      <td>1</td>\n",
       "      <td>0</td>\n",
       "      <td>0</td>\n",
       "      <td>0</td>\n",
       "      <td>1</td>\n",
       "      <td>0</td>\n",
       "    </tr>\n",
       "    <tr>\n",
       "      <th>4</th>\n",
       "      <td>4</td>\n",
       "      <td>7.00</td>\n",
       "      <td>32.05</td>\n",
       "      <td>Stay</td>\n",
       "      <td>1</td>\n",
       "      <td>0</td>\n",
       "      <td>1</td>\n",
       "      <td>0</td>\n",
       "      <td>1</td>\n",
       "      <td>0</td>\n",
       "      <td>...</td>\n",
       "      <td>0</td>\n",
       "      <td>0</td>\n",
       "      <td>1</td>\n",
       "      <td>0</td>\n",
       "      <td>1</td>\n",
       "      <td>0</td>\n",
       "      <td>0</td>\n",
       "      <td>0</td>\n",
       "      <td>1</td>\n",
       "      <td>0</td>\n",
       "    </tr>\n",
       "  </tbody>\n",
       "</table>\n",
       "<p>5 rows × 25 columns</p>\n",
       "</div>"
      ],
      "text/plain": [
       "   Unnamed: 0  Experience (YY.MM)  Age in YY. Stay/Left  New Location  \\\n",
       "0           0                6.08       27.12      Left             3   \n",
       "1           1               13.00       38.08      Stay             6   \n",
       "2           2               16.05       36.04      Stay             5   \n",
       "3           3                6.06       32.07      Stay             6   \n",
       "4           4                7.00       32.05      Stay             1   \n",
       "\n",
       "   New Promotion  New Job Role Match  Agency  Direct  Employee Referral  ...  \\\n",
       "0              0                   1       0       1                  0  ...   \n",
       "1              1                   0       0       1                  0  ...   \n",
       "2              1                   1       0       1                  0  ...   \n",
       "3              1                   1       0       1                  0  ...   \n",
       "4              0                   1       0       1                  0  ...   \n",
       "\n",
       "   B3  other group  < =1  > 1 & < =3  Operation  Sales  Support  Female  Male  \\\n",
       "0   0            0     1           0          1      0        0       0     1   \n",
       "1   0            1     1           0          0      0        1       0     1   \n",
       "2   1            0     1           0          1      0        0       0     1   \n",
       "3   0            0     1           0          1      0        0       0     1   \n",
       "4   0            0     1           0          1      0        0       0     1   \n",
       "\n",
       "   other  \n",
       "0      0  \n",
       "1      0  \n",
       "2      0  \n",
       "3      0  \n",
       "4      0  \n",
       "\n",
       "[5 rows x 25 columns]"
      ]
     },
     "execution_count": 81,
     "metadata": {},
     "output_type": "execute_result"
    }
   ],
   "source": [
    "dataset.head()"
   ]
  },
  {
   "cell_type": "code",
   "execution_count": 89,
   "metadata": {},
   "outputs": [],
   "source": [
    "dataset_new = dataset.copy()"
   ]
  },
  {
   "cell_type": "code",
   "execution_count": 90,
   "metadata": {},
   "outputs": [],
   "source": [
    "dataset_new = dataset_new.drop('Unnamed: 0', axis = 1)"
   ]
  },
  {
   "cell_type": "code",
   "execution_count": 91,
   "metadata": {},
   "outputs": [],
   "source": [
    "y = dataset_new[\"Stay/Left\"]\n",
    "X = dataset_new.drop(\"Stay/Left\",axis=1)"
   ]
  },
  {
   "cell_type": "code",
   "execution_count": 92,
   "metadata": {},
   "outputs": [
    {
     "data": {
      "text/plain": [
       "(896, 23)"
      ]
     },
     "execution_count": 92,
     "metadata": {},
     "output_type": "execute_result"
    }
   ],
   "source": [
    "X.shape"
   ]
  },
  {
   "cell_type": "code",
   "execution_count": 93,
   "metadata": {},
   "outputs": [
    {
     "data": {
      "text/plain": [
       "(896,)"
      ]
     },
     "execution_count": 93,
     "metadata": {},
     "output_type": "execute_result"
    }
   ],
   "source": [
    "y.shape"
   ]
  },
  {
   "cell_type": "code",
   "execution_count": 87,
   "metadata": {},
   "outputs": [],
   "source": [
    "from sklearn.model_selection import train_test_split\n",
    "from sklearn.metrics import confusion_matrix\n",
    "from sklearn import datasets\n",
    "from sklearn.metrics import accuracy_score"
   ]
  },
  {
   "cell_type": "code",
   "execution_count": 94,
   "metadata": {},
   "outputs": [
    {
     "data": {
      "text/html": [
       "<div>\n",
       "<style scoped>\n",
       "    .dataframe tbody tr th:only-of-type {\n",
       "        vertical-align: middle;\n",
       "    }\n",
       "\n",
       "    .dataframe tbody tr th {\n",
       "        vertical-align: top;\n",
       "    }\n",
       "\n",
       "    .dataframe thead th {\n",
       "        text-align: right;\n",
       "    }\n",
       "</style>\n",
       "<table border=\"1\" class=\"dataframe\">\n",
       "  <thead>\n",
       "    <tr style=\"text-align: right;\">\n",
       "      <th></th>\n",
       "      <th>Experience (YY.MM)</th>\n",
       "      <th>Age in YY.</th>\n",
       "      <th>New Location</th>\n",
       "      <th>New Promotion</th>\n",
       "      <th>New Job Role Match</th>\n",
       "      <th>Agency</th>\n",
       "      <th>Direct</th>\n",
       "      <th>Employee Referral</th>\n",
       "      <th>Marr.</th>\n",
       "      <th>Single</th>\n",
       "      <th>...</th>\n",
       "      <th>B3</th>\n",
       "      <th>other group</th>\n",
       "      <th>&lt; =1</th>\n",
       "      <th>&gt; 1 &amp; &lt; =3</th>\n",
       "      <th>Operation</th>\n",
       "      <th>Sales</th>\n",
       "      <th>Support</th>\n",
       "      <th>Female</th>\n",
       "      <th>Male</th>\n",
       "      <th>other</th>\n",
       "    </tr>\n",
       "  </thead>\n",
       "  <tbody>\n",
       "    <tr>\n",
       "      <th>385</th>\n",
       "      <td>7.05</td>\n",
       "      <td>30.02</td>\n",
       "      <td>6</td>\n",
       "      <td>0</td>\n",
       "      <td>1</td>\n",
       "      <td>0</td>\n",
       "      <td>1</td>\n",
       "      <td>0</td>\n",
       "      <td>0</td>\n",
       "      <td>1</td>\n",
       "      <td>...</td>\n",
       "      <td>0</td>\n",
       "      <td>0</td>\n",
       "      <td>0</td>\n",
       "      <td>1</td>\n",
       "      <td>1</td>\n",
       "      <td>0</td>\n",
       "      <td>0</td>\n",
       "      <td>0</td>\n",
       "      <td>1</td>\n",
       "      <td>0</td>\n",
       "    </tr>\n",
       "    <tr>\n",
       "      <th>215</th>\n",
       "      <td>3.07</td>\n",
       "      <td>24.03</td>\n",
       "      <td>6</td>\n",
       "      <td>0</td>\n",
       "      <td>0</td>\n",
       "      <td>0</td>\n",
       "      <td>1</td>\n",
       "      <td>0</td>\n",
       "      <td>0</td>\n",
       "      <td>1</td>\n",
       "      <td>...</td>\n",
       "      <td>0</td>\n",
       "      <td>0</td>\n",
       "      <td>1</td>\n",
       "      <td>0</td>\n",
       "      <td>0</td>\n",
       "      <td>0</td>\n",
       "      <td>1</td>\n",
       "      <td>0</td>\n",
       "      <td>1</td>\n",
       "      <td>0</td>\n",
       "    </tr>\n",
       "    <tr>\n",
       "      <th>399</th>\n",
       "      <td>5.00</td>\n",
       "      <td>29.02</td>\n",
       "      <td>3</td>\n",
       "      <td>0</td>\n",
       "      <td>1</td>\n",
       "      <td>0</td>\n",
       "      <td>1</td>\n",
       "      <td>0</td>\n",
       "      <td>1</td>\n",
       "      <td>0</td>\n",
       "      <td>...</td>\n",
       "      <td>0</td>\n",
       "      <td>0</td>\n",
       "      <td>0</td>\n",
       "      <td>1</td>\n",
       "      <td>1</td>\n",
       "      <td>0</td>\n",
       "      <td>0</td>\n",
       "      <td>0</td>\n",
       "      <td>1</td>\n",
       "      <td>0</td>\n",
       "    </tr>\n",
       "    <tr>\n",
       "      <th>411</th>\n",
       "      <td>3.08</td>\n",
       "      <td>30.10</td>\n",
       "      <td>6</td>\n",
       "      <td>1</td>\n",
       "      <td>0</td>\n",
       "      <td>0</td>\n",
       "      <td>1</td>\n",
       "      <td>0</td>\n",
       "      <td>0</td>\n",
       "      <td>1</td>\n",
       "      <td>...</td>\n",
       "      <td>0</td>\n",
       "      <td>0</td>\n",
       "      <td>0</td>\n",
       "      <td>1</td>\n",
       "      <td>1</td>\n",
       "      <td>0</td>\n",
       "      <td>0</td>\n",
       "      <td>1</td>\n",
       "      <td>0</td>\n",
       "      <td>0</td>\n",
       "    </tr>\n",
       "    <tr>\n",
       "      <th>354</th>\n",
       "      <td>8.04</td>\n",
       "      <td>29.06</td>\n",
       "      <td>5</td>\n",
       "      <td>1</td>\n",
       "      <td>1</td>\n",
       "      <td>0</td>\n",
       "      <td>1</td>\n",
       "      <td>0</td>\n",
       "      <td>0</td>\n",
       "      <td>1</td>\n",
       "      <td>...</td>\n",
       "      <td>0</td>\n",
       "      <td>0</td>\n",
       "      <td>0</td>\n",
       "      <td>1</td>\n",
       "      <td>1</td>\n",
       "      <td>0</td>\n",
       "      <td>0</td>\n",
       "      <td>0</td>\n",
       "      <td>1</td>\n",
       "      <td>0</td>\n",
       "    </tr>\n",
       "  </tbody>\n",
       "</table>\n",
       "<p>5 rows × 23 columns</p>\n",
       "</div>"
      ],
      "text/plain": [
       "     Experience (YY.MM)  Age in YY.  New Location  New Promotion  \\\n",
       "385                7.05       30.02             6              0   \n",
       "215                3.07       24.03             6              0   \n",
       "399                5.00       29.02             3              0   \n",
       "411                3.08       30.10             6              1   \n",
       "354                8.04       29.06             5              1   \n",
       "\n",
       "     New Job Role Match  Agency  Direct  Employee Referral  Marr.  Single  \\\n",
       "385                   1       0       1                  0      0       1   \n",
       "215                   0       0       1                  0      0       1   \n",
       "399                   1       0       1                  0      1       0   \n",
       "411                   0       0       1                  0      0       1   \n",
       "354                   1       0       1                  0      0       1   \n",
       "\n",
       "     ...  B3  other group  < =1  > 1 & < =3  Operation  Sales  Support  \\\n",
       "385  ...   0            0     0           1          1      0        0   \n",
       "215  ...   0            0     1           0          0      0        1   \n",
       "399  ...   0            0     0           1          1      0        0   \n",
       "411  ...   0            0     0           1          1      0        0   \n",
       "354  ...   0            0     0           1          1      0        0   \n",
       "\n",
       "     Female  Male  other  \n",
       "385       0     1      0  \n",
       "215       0     1      0  \n",
       "399       0     1      0  \n",
       "411       1     0      0  \n",
       "354       0     1      0  \n",
       "\n",
       "[5 rows x 23 columns]"
      ]
     },
     "execution_count": 94,
     "metadata": {},
     "output_type": "execute_result"
    }
   ],
   "source": [
    "X_train,X_test,y_train,y_test = train_test_split(X,y,test_size=0.2,\n",
    "                                                 random_state=4)\n",
    "X_train.head()"
   ]
  },
  {
   "cell_type": "code",
   "execution_count": 95,
   "metadata": {},
   "outputs": [],
   "source": [
    "from sklearn.linear_model import LogisticRegression\n",
    "from sklearn.tree import DecisionTreeClassifier\n",
    "from sklearn.ensemble import RandomForestClassifier\n",
    "from sklearn.naive_bayes import GaussianNB\n",
    "from sklearn.neighbors import KNeighborsClassifier\n",
    "from sklearn import svm"
   ]
  },
  {
   "cell_type": "code",
   "execution_count": 96,
   "metadata": {},
   "outputs": [],
   "source": [
    "lr=LogisticRegression(C = 0.1, random_state = 42, \n",
    "                      solver = 'liblinear')\n",
    "dt=DecisionTreeClassifier()\n",
    "rm=RandomForestClassifier()\n",
    "gnb=GaussianNB()\n",
    "knn = KNeighborsClassifier(n_neighbors=3)\n",
    "svm = svm.SVC(kernel='linear')"
   ]
  },
  {
   "cell_type": "code",
   "execution_count": 97,
   "metadata": {},
   "outputs": [
    {
     "name": "stdout",
     "output_type": "stream",
     "text": [
      "[Logistic Regression] training data accuracy is : 0.888268\n",
      "[Logistic Regression] test data accuracy is : 0.855556\n",
      "[Decision Tree] training data accuracy is : 0.998603\n",
      "[Decision Tree] test data accuracy is : 0.866667\n",
      "[KNN] training data accuracy is : 0.889665\n",
      "[KNN] test data accuracy is : 0.744444\n",
      "[SVM] training data accuracy is : 0.882682\n",
      "[SVM] test data accuracy is : 0.838889\n",
      "[Random Forest] training data accuracy is : 0.998603\n",
      "[Random Forest] test data accuracy is : 0.850000\n",
      "[Naive Bayes] training data accuracy is : 0.768156\n",
      "[Naive Bayes] test data accuracy is : 0.738889\n"
     ]
    }
   ],
   "source": [
    "for a,b in zip([lr,dt,knn,svm,rm,gnb],[\"Logistic Regression\",\"Decision Tree\",\"KNN\",\"SVM\",\"Random Forest\",\"Naive Bayes\"]):\n",
    "    a.fit(X_train,y_train)\n",
    "    prediction=a.predict(X_train)\n",
    "    y_pred=a.predict(X_test)\n",
    "    score1=accuracy_score(y_train,prediction)\n",
    "    score=accuracy_score(y_test,y_pred)\n",
    "    msg1=\"[%s] training data accuracy is : %f\" % (b,score1)\n",
    "    msg2=\"[%s] test data accuracy is : %f\" % (b,score)\n",
    "    print(msg1)\n",
    "    print(msg2)"
   ]
  },
  {
   "cell_type": "code",
   "execution_count": 99,
   "metadata": {},
   "outputs": [
    {
     "data": {
      "text/plain": [
       "{'Logistic Regression': 0.8555555555555555,\n",
       " 'KNN classifier': 0.7444444444444445,\n",
       " 'Support Vector Machine': 0.8388888888888889,\n",
       " 'Random forest': 0.85,\n",
       " 'Decision tree': 0.8666666666666667,\n",
       " 'Naive Bayes': 0.7388888888888889}"
      ]
     },
     "execution_count": 99,
     "metadata": {},
     "output_type": "execute_result"
    }
   ],
   "source": [
    "model_scores={'Logistic Regression':lr.score(X_test,y_test),\n",
    "             'KNN classifier':knn.score(X_test,y_test),\n",
    "             'Support Vector Machine':svm.score(X_test,y_test),\n",
    "             'Random forest':rm.score(X_test,y_test),\n",
    "              'Decision tree':dt.score(X_test,y_test),\n",
    "              'Naive Bayes':gnb.score(X_test,y_test)\n",
    "             }\n",
    "model_scores"
   ]
  },
  {
   "cell_type": "code",
   "execution_count": 100,
   "metadata": {},
   "outputs": [
    {
     "name": "stdout",
     "output_type": "stream",
     "text": [
      "              precision    recall  f1-score   support\n",
      "\n",
      "        Left       0.81      0.74      0.77        62\n",
      "        Stay       0.87      0.91      0.89       118\n",
      "\n",
      "    accuracy                           0.85       180\n",
      "   macro avg       0.84      0.82      0.83       180\n",
      "weighted avg       0.85      0.85      0.85       180\n",
      "\n"
     ]
    }
   ],
   "source": [
    "from sklearn.metrics import classification_report\n",
    "\n",
    "rm_y_preds = rm.predict(X_test)\n",
    "\n",
    "print(classification_report(y_test,rm_y_preds))"
   ]
  },
  {
   "cell_type": "code",
   "execution_count": 101,
   "metadata": {},
   "outputs": [
    {
     "name": "stdout",
     "output_type": "stream",
     "text": [
      "              precision    recall  f1-score   support\n",
      "\n",
      "        Left       0.82      0.74      0.78        62\n",
      "        Stay       0.87      0.92      0.89       118\n",
      "\n",
      "    accuracy                           0.86       180\n",
      "   macro avg       0.85      0.83      0.84       180\n",
      "weighted avg       0.85      0.86      0.85       180\n",
      "\n"
     ]
    }
   ],
   "source": [
    "from sklearn.metrics import classification_report\n",
    "\n",
    "lr_y_preds = lr.predict(X_test)\n",
    "\n",
    "print(classification_report(y_test,lr_y_preds))"
   ]
  },
  {
   "cell_type": "code",
   "execution_count": 102,
   "metadata": {},
   "outputs": [
    {
     "data": {
      "text/html": [
       "<div>\n",
       "<style scoped>\n",
       "    .dataframe tbody tr th:only-of-type {\n",
       "        vertical-align: middle;\n",
       "    }\n",
       "\n",
       "    .dataframe tbody tr th {\n",
       "        vertical-align: top;\n",
       "    }\n",
       "\n",
       "    .dataframe thead th {\n",
       "        text-align: right;\n",
       "    }\n",
       "</style>\n",
       "<table border=\"1\" class=\"dataframe\">\n",
       "  <thead>\n",
       "    <tr style=\"text-align: right;\">\n",
       "      <th></th>\n",
       "      <th>Logistic Regression</th>\n",
       "      <th>KNN classifier</th>\n",
       "      <th>Support Vector Machine</th>\n",
       "      <th>Random forest</th>\n",
       "      <th>Decision tree</th>\n",
       "      <th>Naive Bayes</th>\n",
       "    </tr>\n",
       "  </thead>\n",
       "  <tbody>\n",
       "    <tr>\n",
       "      <th>accuracy</th>\n",
       "      <td>0.855556</td>\n",
       "      <td>0.744444</td>\n",
       "      <td>0.838889</td>\n",
       "      <td>0.85</td>\n",
       "      <td>0.866667</td>\n",
       "      <td>0.738889</td>\n",
       "    </tr>\n",
       "  </tbody>\n",
       "</table>\n",
       "</div>"
      ],
      "text/plain": [
       "          Logistic Regression  KNN classifier  Support Vector Machine  \\\n",
       "accuracy             0.855556        0.744444                0.838889   \n",
       "\n",
       "          Random forest  Decision tree  Naive Bayes  \n",
       "accuracy           0.85       0.866667     0.738889  "
      ]
     },
     "execution_count": 102,
     "metadata": {},
     "output_type": "execute_result"
    }
   ],
   "source": [
    "model_compare=pd.DataFrame(model_scores,index=['accuracy'])\n",
    "model_compare"
   ]
  },
  {
   "cell_type": "code",
   "execution_count": 103,
   "metadata": {},
   "outputs": [
    {
     "data": {
      "text/plain": [
       "<AxesSubplot:>"
      ]
     },
     "execution_count": 103,
     "metadata": {},
     "output_type": "execute_result"
    },
    {
     "data": {
      "image/png": "[encoded data removed]",
      "text/plain": [
       "<Figure size 432x288 with 1 Axes>"
      ]
     },
     "metadata": {
      "needs_background": "light"
     },
     "output_type": "display_data"
    }
   ],
   "source": [
    "model_compare.T.plot(kind='bar') "
   ]
  },
  {
   "cell_type": "code",
   "execution_count": 105,
   "metadata": {},
   "outputs": [
    {
     "data": {
      "text/plain": [
       "{'Unnamed: 0': 0.09589144084439846,\n",
       " 'Experience (YY.MM)': -0.006656677223699778,\n",
       " 'Age in YY.': 0.004252686197885159,\n",
       " 'Stay/Left': 0.19778812689666933,\n",
       " 'New Location': 2.745933394873371,\n",
       " 'New Promotion': -0.2340328305575803,\n",
       " 'New Job Role Match': -0.09935229029044006,\n",
       " 'Agency': 0.16314298254952386,\n",
       " 'Direct': 0.4418535161968385,\n",
       " 'Employee Referral': -0.5941166051752678,\n",
       " 'Marr.': -0.017979049320067792,\n",
       " 'Single': -0.24061039384672783,\n",
       " 'other status': 0.09083576241652631,\n",
       " 'B1': -0.12262227814613191,\n",
       " 'B2': 0.10215477127783476,\n",
       " 'B3': -0.07848569049277176,\n",
       " 'other group': -0.09175644780572564,\n",
       " '< =1': -0.05068944416774542,\n",
       " '> 1 & < =3': -0.008059259646086727,\n",
       " 'Operation': -0.11149343448466348,\n",
       " 'Sales': 0.09689512517955912,\n",
       " 'Support': -0.239277442768462,\n",
       " 'Female': -0.027859820709593523}"
      ]
     },
     "execution_count": 105,
     "metadata": {},
     "output_type": "execute_result"
    }
   ],
   "source": [
    "feature_dict=dict(zip(dataset.columns,list(lr.coef_[0])))\n",
    "feature_dict"
   ]
  },
  {
   "cell_type": "code",
   "execution_count": 106,
   "metadata": {},
   "outputs": [
    {
     "data": {
      "text/plain": [
       "<AxesSubplot:title={'center':'Feature Importance'}>"
      ]
     },
     "execution_count": 106,
     "metadata": {},
     "output_type": "execute_result"
    },
    {
     "data": {
      "image/png": "[encoded data removed]",
      "text/plain": [
       "<Figure size 432x288 with 1 Axes>"
      ]
     },
     "metadata": {
      "needs_background": "light"
     },
     "output_type": "display_data"
    }
   ],
   "source": [
    "feature_df=pd.DataFrame(feature_dict,index=[0])\n",
    "feature_df.T.plot(kind=\"bar\",legend=False,title=\"Feature Importance\")"
   ]
  },
  {
   "cell_type": "code",
   "execution_count": 107,
   "metadata": {},
   "outputs": [
    {
     "data": {
      "text/plain": [
       "array(['Stay', 'Stay', 'Stay', 'Stay', 'Stay', 'Stay', 'Stay', 'Left',\n",
       "       'Stay', 'Left', 'Stay', 'Stay', 'Left', 'Left', 'Stay', 'Left',\n",
       "       'Left', 'Stay', 'Stay', 'Stay', 'Stay', 'Stay', 'Stay', 'Left',\n",
       "       'Left', 'Stay', 'Stay', 'Left', 'Stay', 'Stay', 'Stay', 'Stay',\n",
       "       'Stay', 'Left', 'Stay', 'Stay', 'Left', 'Stay', 'Stay', 'Stay',\n",
       "       'Left', 'Stay', 'Stay', 'Left', 'Stay', 'Left', 'Stay', 'Stay',\n",
       "       'Stay', 'Stay', 'Left', 'Stay', 'Stay', 'Stay', 'Left', 'Stay',\n",
       "       'Stay', 'Stay', 'Left', 'Stay', 'Stay', 'Stay', 'Stay', 'Stay',\n",
       "       'Stay', 'Stay', 'Stay', 'Stay', 'Stay', 'Left', 'Left', 'Stay',\n",
       "       'Stay', 'Stay', 'Stay', 'Left', 'Left', 'Stay', 'Left', 'Left',\n",
       "       'Stay', 'Stay', 'Left', 'Stay', 'Stay', 'Stay', 'Stay', 'Left',\n",
       "       'Stay', 'Stay', 'Left', 'Stay', 'Stay', 'Left', 'Stay', 'Stay',\n",
       "       'Left', 'Left', 'Stay', 'Stay', 'Left', 'Stay', 'Stay', 'Stay',\n",
       "       'Stay', 'Left', 'Left', 'Stay', 'Stay', 'Stay', 'Left', 'Left',\n",
       "       'Left', 'Left', 'Stay', 'Left', 'Left', 'Left', 'Stay', 'Left',\n",
       "       'Stay', 'Stay', 'Stay', 'Left', 'Stay', 'Stay', 'Stay', 'Stay',\n",
       "       'Stay', 'Left', 'Stay', 'Stay', 'Stay', 'Stay', 'Stay', 'Stay',\n",
       "       'Left', 'Stay', 'Left', 'Stay', 'Stay', 'Stay', 'Stay', 'Left',\n",
       "       'Stay', 'Stay', 'Stay', 'Stay', 'Stay', 'Left', 'Stay', 'Stay',\n",
       "       'Stay', 'Stay', 'Left', 'Stay', 'Left', 'Stay', 'Stay', 'Left',\n",
       "       'Stay', 'Stay', 'Stay', 'Left', 'Stay', 'Stay', 'Left', 'Stay',\n",
       "       'Stay', 'Stay', 'Left', 'Stay', 'Stay', 'Stay', 'Left', 'Left',\n",
       "       'Left', 'Left', 'Stay', 'Stay'], dtype=object)"
      ]
     },
     "execution_count": 107,
     "metadata": {},
     "output_type": "execute_result"
    }
   ],
   "source": [
    "import pickle\n",
    "saved_model = pickle.dumps(lr)\n",
    "lr_from_pickle = pickle.loads(saved_model)\n",
    "lr_from_pickle.predict(X_test)"
   ]
  },
  {
   "cell_type": "code",
   "execution_count": 108,
   "metadata": {},
   "outputs": [
    {
     "data": {
      "text/plain": [
       "array(['Stay', 'Stay', 'Stay', 'Stay', 'Stay', 'Stay', 'Stay', 'Left',\n",
       "       'Stay', 'Left', 'Stay', 'Stay', 'Left', 'Left', 'Stay', 'Left',\n",
       "       'Left', 'Stay', 'Stay', 'Stay', 'Stay', 'Stay', 'Stay', 'Left',\n",
       "       'Left', 'Stay', 'Stay', 'Left', 'Stay', 'Stay', 'Stay', 'Stay',\n",
       "       'Stay', 'Left', 'Stay', 'Stay', 'Left', 'Stay', 'Stay', 'Stay',\n",
       "       'Left', 'Stay', 'Stay', 'Left', 'Stay', 'Left', 'Stay', 'Stay',\n",
       "       'Stay', 'Stay', 'Left', 'Stay', 'Stay', 'Stay', 'Left', 'Stay',\n",
       "       'Stay', 'Stay', 'Left', 'Stay', 'Stay', 'Stay', 'Stay', 'Stay',\n",
       "       'Stay', 'Stay', 'Stay', 'Stay', 'Stay', 'Left', 'Left', 'Stay',\n",
       "       'Stay', 'Stay', 'Stay', 'Left', 'Left', 'Stay', 'Left', 'Left',\n",
       "       'Stay', 'Stay', 'Left', 'Stay', 'Stay', 'Stay', 'Stay', 'Left',\n",
       "       'Stay', 'Stay', 'Left', 'Stay', 'Stay', 'Left', 'Stay', 'Stay',\n",
       "       'Left', 'Left', 'Stay', 'Stay', 'Left', 'Stay', 'Stay', 'Stay',\n",
       "       'Stay', 'Left', 'Left', 'Stay', 'Stay', 'Stay', 'Left', 'Left',\n",
       "       'Left', 'Left', 'Stay', 'Left', 'Left', 'Left', 'Stay', 'Left',\n",
       "       'Stay', 'Stay', 'Stay', 'Left', 'Stay', 'Stay', 'Stay', 'Stay',\n",
       "       'Stay', 'Left', 'Stay', 'Stay', 'Stay', 'Stay', 'Stay', 'Stay',\n",
       "       'Left', 'Stay', 'Left', 'Stay', 'Stay', 'Stay', 'Stay', 'Left',\n",
       "       'Stay', 'Stay', 'Stay', 'Stay', 'Stay', 'Left', 'Stay', 'Stay',\n",
       "       'Stay', 'Stay', 'Left', 'Stay', 'Left', 'Stay', 'Stay', 'Left',\n",
       "       'Stay', 'Stay', 'Stay', 'Left', 'Stay', 'Stay', 'Left', 'Stay',\n",
       "       'Stay', 'Stay', 'Left', 'Stay', 'Stay', 'Stay', 'Left', 'Left',\n",
       "       'Left', 'Left', 'Stay', 'Stay'], dtype=object)"
      ]
     },
     "execution_count": 108,
     "metadata": {},
     "output_type": "execute_result"
    }
   ],
   "source": [
    "import joblib\n",
    "joblib.dump(lr , 'model_lr')\n",
    "m_jlib = joblib.load('model_lr')\n",
    "m_jlib.predict(X_test) "
   ]
  }
 ],
 "metadata": {
  "kernelspec": {
   "display_name": "Python 3",
   "language": "python",
   "name": "python3"
  },
  "language_info": {
   "codemirror_mode": {
    "name": "ipython",
    "version": 3
   },
   "file_extension": ".py",
   "mimetype": "text/x-python",
   "name": "python",
   "nbconvert_exporter": "python",
   "pygments_lexer": "ipython3",
   "version": "3.8.5"
  }
 },
 "nbformat": 4,
 "nbformat_minor": 4
}
